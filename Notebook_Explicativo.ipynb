{
 "cells": [
  {
   "cell_type": "markdown",
   "metadata": {},
   "source": [
    "# LIBRERIA sismo_utils"
   ]
  },
  {
   "cell_type": "markdown",
   "metadata": {},
   "source": [
    "## 1. IMPORTANDO LIBRERIAS"
   ]
  },
  {
   "cell_type": "code",
   "execution_count": 2,
   "metadata": {},
   "outputs": [],
   "source": [
    "import sys\n",
    "import os\n",
    "sys.path.append(os.getcwd()+'\\..')\n",
    "import pandas as pd\n",
    "from lib import etabs_utils as etb\n",
    "from lib import sismo_utils as sis\n",
    "import sys\n",
    "from ipywidgets import widgets\n",
    "from lib import latex_utils as ltx\n",
    "from IPython.display import clear_output, display"
   ]
  },
  {
   "attachments": {},
   "cell_type": "markdown",
   "metadata": {},
   "source": [
    "## 2. CONECTANDO A ETABS\n",
    "\n",
    "Las siguientes lineas de codigo incializan la conexión con el modelo ETABS, donde la función etb.connect_to_etabs() returna dos resultados, el EtabsObject y el SapModel (en ese orden), solo sera necesario el segundo.\n",
    "Adicionalmente se definiran las unidades con la función *etb.set_units(_SapModel,'Ton_m_C')*, siendo las unidades a elección del usuario segun la siguiente lista:\n",
    "|Units|Valor numérico API ETABS|\n",
    "|----|----|\n",
    "|lb_in_F | 1|\n",
    "|lb_ft_F|2|\n",
    "|kip_in_F|3|\n",
    "|kip_ft_F|4|\n",
    "|kN_mm_C|5|\n",
    "|kN_m_C |6|\n",
    "|kgf_mm_C |7|\n",
    "|kgf_m_C |8|\n",
    "|N_mm_C\t|9|\n",
    "|N_m_C\t|10|\n",
    "|Ton_mm_C|11|\n",
    "|Ton_m_C|12|\n",
    "|kN_cm_C|13|\n",
    "|kgf_cm_C|14|\n",
    "|N_cm_C\t|15|\n",
    "|Ton_cm_C|16|"
   ]
  },
  {
   "cell_type": "code",
   "execution_count": 4,
   "metadata": {},
   "outputs": [],
   "source": [
    "#Conexion con el modelo ETABS.\n",
    "_,SapModel= etb.connect_to_etabs()\n",
    "\n",
    "#Definir variables de salida 'Ton_m_C' o 'kgf_cm_C'\n",
    "etb.set_units(SapModel,'Ton_m_C')"
   ]
  },
  {
   "cell_type": "markdown",
   "metadata": {},
   "source": [
    "## 3. INTRODUCCIÓN DE INFORMACIÓN"
   ]
  },
  {
   "cell_type": "markdown",
   "metadata": {},
   "source": [
    "Luego creamos las listas donde se contienen las informacion de los sistemas estructurales (sistema), las categorias de uso de edificación (categoria) y los casos de sismo para hacer las verificaciones sismicas (sis_loads) segun nos indica la norma E030."
   ]
  },
  {
   "cell_type": "code",
   "execution_count": 5,
   "metadata": {},
   "outputs": [],
   "source": [
    "sistemas = ['Pórticos de Concreto Armado',\n",
    "            'Dual de Concreto Armado',\n",
    "            'De Muros Estructurales de Concreto Armado',\n",
    "            'Pórticos Especiales de Acero Resistentes a Momentos',\n",
    "            'Pórticos Intermedios de Acero Resistentes a Momentos',\n",
    "            'Pórticos Ordinarios de Acero Resistentes a Momentos',\n",
    "            'Pórticos Especiales de Acero Concénticamente Arriostrados',\n",
    "            'Pórticos Ordinarios de Acero Concénticamente Arriostrados',\n",
    "            'Pórticos Acero Excéntricamente Arriostrados',\n",
    "            'Muros de Ductilidad Limita de Concreto Armado',\n",
    "            'Albañilería Armada o Confinada',\n",
    "            'Madera']\n",
    "\n",
    "categorias = ['A1 aislado',\n",
    "              'A1 no aislado',\n",
    "              'A2',\n",
    "              'B',\n",
    "              'C']\n",
    "\n",
    "sis_loads = {'Sismo_EstX': 'Sx',\n",
    "             'Sismo_EstY': 'Sy',\n",
    "             'Sismo_DinX': 'SDx',\n",
    "             'Sismo_DinY': 'SDy'}\n"
   ]
  },
  {
   "cell_type": "markdown",
   "metadata": {},
   "source": [
    "En las siguientes lineas de codigo definimos la informacion de nuestro modelo en base a las listas creadas y el numero de pisos, sotanos y azoteas (estos ultimos para que no entren en las verificaciones de irregularidad)"
   ]
  },
  {
   "cell_type": "code",
   "execution_count": 6,
   "metadata": {},
   "outputs": [],
   "source": [
    "zona = 4\n",
    "suelo = 'S2'\n",
    "sist_x = sistemas[0]\n",
    "sist_y = sistemas[1]\n",
    "categoria = categorias[4]\n",
    "n_pisos = 4\n",
    "n_sotanos = 0\n",
    "n_azoteas = 0"
   ]
  },
  {
   "cell_type": "markdown",
   "metadata": {},
   "source": [
    "Luego definimos nuestro objeto con la clase Sismo_e30()"
   ]
  },
  {
   "cell_type": "code",
   "execution_count": 7,
   "metadata": {},
   "outputs": [],
   "source": [
    "sismo = sis.Sismo_e30()"
   ]
  },
  {
   "cell_type": "markdown",
   "metadata": {},
   "source": [
    "Luego se registran los datos definidos lineas arriba para el modelo en el objeto segun la norma E030:"
   ]
  },
  {
   "cell_type": "code",
   "execution_count": 8,
   "metadata": {
    "scrolled": true
   },
   "outputs": [
    {
     "name": "stdout",
     "output_type": "stream",
     "text": [
      "Zona sísmica:  4\n",
      "Factor de zona:  0.45\n",
      "Perfil de suelo:  S2\n",
      "Factor de suelo:  1.05\n",
      "Periodo de suelo Tp:  0.6\n",
      "Periodo de suelo Tl:  2.0\n",
      "Sistema estructural en dirección X:  Pórticos de Concreto Armado\n",
      "Sistema estructural en dirección Y:  Dual de Concreto Armado\n",
      "Coeficiente básico de reducción Ro en dirección X:  8.0\n",
      "Coeficiente básico de reducción Ro en dirección Y:  7.0\n",
      "Deriva máxima en dirección X:  0.007\n",
      "Deriva máxima en dirección Y:  0.007\n",
      "Categoría de la edificación:  C\n",
      "Factor de uso:  1.0\n",
      "Número de pisos:  4\n",
      "Número de azotea:  0\n",
      "Número de sótanos:  0\n"
     ]
    }
   ],
   "source": [
    "sismo.data.factor_zona(zona)\n",
    "print('Zona sísmica: ',sismo.data.zona)\n",
    "print('Factor de zona: ',sismo.data.Z)\n",
    "sismo.data.factor_suelo(suelo)\n",
    "print('Perfil de suelo: ',sismo.data.suelo)\n",
    "print('Factor de suelo: ',sismo.data.S)\n",
    "sismo.data.periodos_suelo()\n",
    "print('Periodo de suelo Tp: ',sismo.data.Tp)\n",
    "print('Periodo de suelo Tl: ',sismo.data.Tl)\n",
    "sismo.data.sist_estructural(sist_x,sist_y)\n",
    "print('Sistema estructural en dirección X: ',sismo.data.sistema_x)\n",
    "print('Sistema estructural en dirección Y: ',sismo.data.sistema_y)\n",
    "print('Coeficiente básico de reducción Ro en dirección X: ',sismo.data.Rox)\n",
    "print('Coeficiente básico de reducción Ro en dirección Y: ',sismo.data.Roy)\n",
    "print('Deriva máxima en dirección X: ',sismo.data.max_drift_x)\n",
    "print('Deriva máxima en dirección Y: ',sismo.data.max_drift_y)\n",
    "sismo.data.categoria_edificacion(categoria)\n",
    "print('Categoría de la edificación: ',sismo.data.categoria)\n",
    "print('Factor de uso: ',sismo.data.U)\n",
    "sismo.data.set_pisos(n_pisos,n_azoteas,n_sotanos)\n",
    "print('Número de pisos: ',sismo.data.n_pisos)\n",
    "print('Número de azotea: ',sismo.data.n_azoteas)\n",
    "print('Número de sótanos: ',sismo.data.n_sotanos)"
   ]
  },
  {
   "cell_type": "markdown",
   "metadata": {},
   "source": [
    "Indicamos cuales son las irregularidades tanto en planta como en altura que suponemos que existen en la edificación:"
   ]
  },
  {
   "cell_type": "code",
   "execution_count": 9,
   "metadata": {},
   "outputs": [
    {
     "name": "stdout",
     "output_type": "stream",
     "text": [
      "Factor de Irregularidad en altura Ia:  0.75\n",
      "Factor de Irregularidad en planta Ip:  0.6\n"
     ]
    }
   ],
   "source": [
    "sismo.data.irreg_altura(i_piso_blando=True,\n",
    "                        i_piso_blando_e=False,\n",
    "                        i_masa=False,\n",
    "                        i_vertical=False,\n",
    "                        i_discontinuidad_vertical=False,\n",
    "                        i_discontinuidad_vertical_e=False)\n",
    "\n",
    "print('Factor de Irregularidad en altura Ia: ',sismo.data.Ia)\n",
    "\n",
    "sismo.data.irreg_planta(i_torsional=False,\n",
    "                        i_torsional_e=True,\n",
    "                        i_esquinas_entrantes=False,\n",
    "                        i_discontinuidad_diafragma=False,\n",
    "                        i_sistemas_no_paralelos=False)\n",
    "print('Factor de Irregularidad en planta Ip: ',sismo.data.Ip)"
   ]
  },
  {
   "cell_type": "markdown",
   "metadata": {},
   "source": [
    "A partir de los todos los datos ingresado calculamos los factores de reducción para dirección de análisis."
   ]
  },
  {
   "cell_type": "code",
   "execution_count": 10,
   "metadata": {},
   "outputs": [
    {
     "name": "stdout",
     "output_type": "stream",
     "text": [
      "Factor de reducción en dirección X: 3.5999999999999996\n",
      "Factor de reducción en dirección Y: 3.15\n",
      "Es regular?: False\n"
     ]
    }
   ],
   "source": [
    "sismo.data.factor_R()\n",
    "print('Factor de reducción en dirección X:',sismo.data.Rx)\n",
    "print('Factor de reducción en dirección Y:',sismo.data.Ry)\n",
    "print('Es regular?: {}'.format(sismo.data.is_regular))"
   ]
  },
  {
   "cell_type": "markdown",
   "metadata": {},
   "source": [
    "Imprimimos todos los parametros que hemos introducido que el programa defina a partir de estos teniendo en cuenta la norma E.030"
   ]
  },
  {
   "cell_type": "code",
   "execution_count": 11,
   "metadata": {},
   "outputs": [
    {
     "name": "stdout",
     "output_type": "stream",
     "text": [
      "\n",
      "\u001b[1m Parámetros de sitio:\u001b[0m\n",
      "Factor de zona: \n",
      "    Z=0.45\n",
      "Factor de Importancia: \n",
      "    U=1.00\n",
      "Factor de Suelo: \n",
      "    S=1.05\n",
      "Periodos del Suelo: \n",
      "    Tp=0.60\n",
      "    Tl=2.00\n",
      "Factor Básico de Reducción:\n",
      "    Rox=8.00\n",
      "    Roy=7.00\n",
      "Irregularidad en planta:\n",
      "    Ip=0.60\n",
      "Irregularidad en altura:\n",
      "    Ia=0.75\n",
      "Factor de Reducción:\n",
      "    Rx=3.60\n",
      "    Ry=3.15\n",
      "\n"
     ]
    }
   ],
   "source": [
    "sismo.data.show_params()"
   ]
  },
  {
   "cell_type": "markdown",
   "metadata": {},
   "source": [
    "Introducimos los casos de carga definidos previamente para obtener las tablas necesaria para verificar las irregularidades"
   ]
  },
  {
   "cell_type": "code",
   "execution_count": 12,
   "metadata": {},
   "outputs": [],
   "source": [
    "sismo.loads.set_seism_loads(sis_loads)"
   ]
  },
  {
   "cell_type": "markdown",
   "metadata": {},
   "source": [
    "Con todo esto ya tenemos definido todos los datos para empezar a verificar las irregularidades."
   ]
  },
  {
   "cell_type": "markdown",
   "metadata": {},
   "source": [
    "## 4. VERIFICACIÓN DE IRREGULARIDADES"
   ]
  },
  {
   "cell_type": "markdown",
   "metadata": {},
   "source": [
    "Antes de verificar las irregularidades segun la NTE E030 debemos de obtener los datos necesario del modelo ETABS. Primero indicar que el modelo debe estar corrido indicando que se debe tener activado el cálculo del centro de rigidez del diafragma en el modelo antes de iniciar el análisis (revisar el cuadro \"Analyze->Set Load Cases To Run\"). Si el codigo presentara error."
   ]
  },
  {
   "cell_type": "markdown",
   "metadata": {},
   "source": [
    "### 4.1 SISMO ESTÁTICO"
   ]
  },
  {
   "cell_type": "markdown",
   "metadata": {},
   "source": [
    "Esta seccion comprende de 2 funciones: ana_modal(SapModel,report=False) y el sismo_estatico(SapModel,report=False). El primero obtiene la tabla de resultados del analisis modal y el segundo define todos los factores y el coeficiente ZUCS/R de la norma NTE E0.30. Recordar que estas funciones estan definidas para la clase Sismo_e30 y que anteriormente fue denominada \"sismo\" a nuestro objeto en estudio (sismo = sis.Sismo_e30()) "
   ]
  },
  {
   "cell_type": "markdown",
   "metadata": {},
   "source": [
    "### FUNCIÓN: ana_modal(self,SapModel,report=False)\n",
    "\n",
    "La finalidad de esta función es la de obtener a partir de la tabla de resultado del análisis modal (\"Modal Participating Mass Ratios\") los periodos fundamentales para cada dirección de análisis y la tabla con las masas participativas en UX,UY y RZ, con sus respectivos valores acumulados SumUX,SumUY y SumRZ, con el fin de verificar que si se obtiene al menos el 90% segun lo indicado en la sección 29.1.2 de la NTE E0.30. Caso contrario solo se indica un mensaje que pide aumentar los grados de libertad pero aun sigue definiendo las tablas y los periodos\n",
    "Adicionalmente da la opcion de generar un reporte (report=False, por defecto)"
   ]
  },
  {
   "cell_type": "code",
   "execution_count": 13,
   "metadata": {},
   "outputs": [
    {
     "name": "stdout",
     "output_type": "stream",
     "text": [
      "Help on method ana_modal in module lib.sismo_utils:\n",
      "\n",
      "ana_modal(SapModel, report=False) method of lib.sismo_utils.Sismo_e30 instance\n",
      "    Devuelve datos del analisis modal, y los periodos fundamentales\n",
      "    para cada dirección de análisis si la masa participativa es mayor al\n",
      "    90%. Revise 29.1.2 NTE 030 2020\n",
      "    \n",
      "    Parámetros\n",
      "    ----------\n",
      "    SapModel: objeto propio del ETABS\n",
      "    \n",
      "    Returns\n",
      "    -------\n",
      "    mensaje: ----Aumentar grados de libertad, si MP_y o MP_x<0.9\n",
      "    modal=tabla \"Modal Participating Mass Ratios\"\n",
      "    T_x=Periodo fundamental en la dirección x\n",
      "    T_y=Periodo fundamental en la dirección y\n",
      "\n"
     ]
    }
   ],
   "source": [
    "help(sismo.ana_modal)"
   ]
  },
  {
   "cell_type": "code",
   "execution_count": 14,
   "metadata": {},
   "outputs": [
    {
     "name": "stdout",
     "output_type": "stream",
     "text": [
      "\n",
      "Análisis Modal:\n",
      "Masa Participativa X: 1.00\n",
      "Masa Participativa Y: 1.00\n",
      "Periodo y Masa Participativa X: Tx=0.360, Ux=0.864\n",
      "Periodo y Masa Participativa Y: Ty=0.273, Uy=0.872\n"
     ]
    }
   ],
   "source": [
    "sismo.ana_modal(SapModel,True)"
   ]
  },
  {
   "cell_type": "markdown",
   "metadata": {},
   "source": [
    "Los valores de los periodos fundamentales de vibracion para cada dirección de análisis."
   ]
  },
  {
   "cell_type": "code",
   "execution_count": 15,
   "metadata": {},
   "outputs": [
    {
     "name": "stdout",
     "output_type": "stream",
     "text": [
      "0.36\n",
      "0.273\n"
     ]
    }
   ],
   "source": [
    "print(sismo.data.Tx)\n",
    "print(sismo.data.Ty)"
   ]
  },
  {
   "cell_type": "markdown",
   "metadata": {},
   "source": [
    "La tabla que genera esta funcion es:"
   ]
  },
  {
   "cell_type": "code",
   "execution_count": 17,
   "metadata": {},
   "outputs": [
    {
     "data": {
      "text/html": [
       "<div>\n",
       "<style scoped>\n",
       "    .dataframe tbody tr th:only-of-type {\n",
       "        vertical-align: middle;\n",
       "    }\n",
       "\n",
       "    .dataframe tbody tr th {\n",
       "        vertical-align: top;\n",
       "    }\n",
       "\n",
       "    .dataframe thead th {\n",
       "        text-align: right;\n",
       "    }\n",
       "</style>\n",
       "<table border=\"1\" class=\"dataframe\">\n",
       "  <thead>\n",
       "    <tr style=\"text-align: right;\">\n",
       "      <th></th>\n",
       "      <th>Mode</th>\n",
       "      <th>Period</th>\n",
       "      <th>UX</th>\n",
       "      <th>UY</th>\n",
       "      <th>RZ</th>\n",
       "      <th>SumUX</th>\n",
       "      <th>SumUY</th>\n",
       "      <th>SumRZ</th>\n",
       "    </tr>\n",
       "  </thead>\n",
       "  <tbody>\n",
       "    <tr>\n",
       "      <th>0</th>\n",
       "      <td>1</td>\n",
       "      <td>0.36</td>\n",
       "      <td>0.864000</td>\n",
       "      <td>0.000000</td>\n",
       "      <td>2.486E-06</td>\n",
       "      <td>0.864</td>\n",
       "      <td>0</td>\n",
       "      <td>2.486E-06</td>\n",
       "    </tr>\n",
       "    <tr>\n",
       "      <th>1</th>\n",
       "      <td>2</td>\n",
       "      <td>0.273</td>\n",
       "      <td>0.000000</td>\n",
       "      <td>0.871800</td>\n",
       "      <td>1.513E-06</td>\n",
       "      <td>0.864</td>\n",
       "      <td>0.8718</td>\n",
       "      <td>4E-06</td>\n",
       "    </tr>\n",
       "    <tr>\n",
       "      <th>2</th>\n",
       "      <td>3</td>\n",
       "      <td>0.225</td>\n",
       "      <td>0.000011</td>\n",
       "      <td>0.000001</td>\n",
       "      <td>0.8499</td>\n",
       "      <td>0.864</td>\n",
       "      <td>0.8718</td>\n",
       "      <td>0.8499</td>\n",
       "    </tr>\n",
       "    <tr>\n",
       "      <th>3</th>\n",
       "      <td>4</td>\n",
       "      <td>0.101</td>\n",
       "      <td>0.118800</td>\n",
       "      <td>0.000000</td>\n",
       "      <td>4.188E-06</td>\n",
       "      <td>0.9828</td>\n",
       "      <td>0.8718</td>\n",
       "      <td>0.8499</td>\n",
       "    </tr>\n",
       "    <tr>\n",
       "      <th>4</th>\n",
       "      <td>5</td>\n",
       "      <td>0.077</td>\n",
       "      <td>0.000000</td>\n",
       "      <td>0.111900</td>\n",
       "      <td>0</td>\n",
       "      <td>0.9828</td>\n",
       "      <td>0.9837</td>\n",
       "      <td>0.8499</td>\n",
       "    </tr>\n",
       "    <tr>\n",
       "      <th>5</th>\n",
       "      <td>6</td>\n",
       "      <td>0.062</td>\n",
       "      <td>0.000000</td>\n",
       "      <td>0.000000</td>\n",
       "      <td>0.1317</td>\n",
       "      <td>0.9828</td>\n",
       "      <td>0.9837</td>\n",
       "      <td>0.9816</td>\n",
       "    </tr>\n",
       "    <tr>\n",
       "      <th>6</th>\n",
       "      <td>7</td>\n",
       "      <td>0.048</td>\n",
       "      <td>0.017200</td>\n",
       "      <td>0.000000</td>\n",
       "      <td>6.349E-07</td>\n",
       "      <td>1</td>\n",
       "      <td>0.9837</td>\n",
       "      <td>0.9816</td>\n",
       "    </tr>\n",
       "    <tr>\n",
       "      <th>7</th>\n",
       "      <td>8</td>\n",
       "      <td>0.037</td>\n",
       "      <td>0.000000</td>\n",
       "      <td>0.016300</td>\n",
       "      <td>0</td>\n",
       "      <td>1</td>\n",
       "      <td>1</td>\n",
       "      <td>0.9816</td>\n",
       "    </tr>\n",
       "    <tr>\n",
       "      <th>8</th>\n",
       "      <td>9</td>\n",
       "      <td>0.029</td>\n",
       "      <td>0.000002</td>\n",
       "      <td>0.000000</td>\n",
       "      <td>0.0184</td>\n",
       "      <td>1</td>\n",
       "      <td>1</td>\n",
       "      <td>1</td>\n",
       "    </tr>\n",
       "  </tbody>\n",
       "</table>\n",
       "</div>"
      ],
      "text/plain": [
       "  Mode Period        UX        UY         RZ   SumUX   SumUY      SumRZ\n",
       "0    1   0.36  0.864000  0.000000  2.486E-06   0.864       0  2.486E-06\n",
       "1    2  0.273  0.000000  0.871800  1.513E-06   0.864  0.8718      4E-06\n",
       "2    3  0.225  0.000011  0.000001     0.8499   0.864  0.8718     0.8499\n",
       "3    4  0.101  0.118800  0.000000  4.188E-06  0.9828  0.8718     0.8499\n",
       "4    5  0.077  0.000000  0.111900          0  0.9828  0.9837     0.8499\n",
       "5    6  0.062  0.000000  0.000000     0.1317  0.9828  0.9837     0.9816\n",
       "6    7  0.048  0.017200  0.000000  6.349E-07       1  0.9837     0.9816\n",
       "7    8  0.037  0.000000  0.016300          0       1       1     0.9816\n",
       "8    9  0.029  0.000002  0.000000     0.0184       1       1          1"
      ]
     },
     "metadata": {},
     "output_type": "display_data"
    }
   ],
   "source": [
    "display(sismo.tables.modal)"
   ]
  },
  {
   "cell_type": "markdown",
   "metadata": {},
   "source": [
    "### FUNCIÓN: sismo_estatico(self,SapModel,report=False)\n",
    "\n",
    "La finalidad de esta funcion es la de definir los valores de los exponentes en altura en ambas direcciones de analisis (kx y ky), defenir los valores de los factores de amplificaciones dinamica (Cx y Cy) y los coeficientes de sismo estatico ZUCS/Rx ZUCS/Ry. \n",
    "Adicionalmente da la opcion de generar un reporte (report=False, por defecto)\n"
   ]
  },
  {
   "cell_type": "code",
   "execution_count": 18,
   "metadata": {},
   "outputs": [
    {
     "name": "stdout",
     "output_type": "stream",
     "text": [
      "Help on method sismo_estatico in module lib.sismo_utils:\n",
      "\n",
      "sismo_estatico(SapModel, report=False) method of lib.sismo_utils.Sismo_e30 instance\n",
      "    Registra en un diccionario: el factor de Reduccion total R, los factores de \n",
      "    amplificacion sísmica en ambas direcciones de analisis, los exponentes de altura \n",
      "    relacionados con los periodos fundamentales en cada direccion de analisis y los \n",
      "    coeficientes de sismo estatico para cada direccion de analisis.\n",
      "    \n",
      "    Parámetros\n",
      "    ----------\n",
      "    SapModel: objeto propio del ETABS\n",
      "    N: Numero de pisos\n",
      "    Z: Factor de zona\n",
      "    U: Factor de uso\n",
      "    S: Factor de amplificacion del suelo\n",
      "    Tp: Periodo del suelo para C=cte\n",
      "    Tl: Periodo del suelo para desplazamientos constantes\n",
      "    Ip: Factor de irregularidad en planta\n",
      "    Ia: Factor de irregularidad en altura\n",
      "    R_o: Coeficiente basico de reduccion\n",
      "    \n",
      "    Returns\n",
      "    -------\n",
      "    Imprime los valores de \n",
      "    data: Diccionario que contiene la tabla \"Modal Participating Mass Ratios\", k_x,\n",
      "    k_y, C_x, C_y, ZUCS_Rx y ZUCS_Ry\n",
      "\n"
     ]
    }
   ],
   "source": [
    "help(sismo.sismo_estatico)"
   ]
  },
  {
   "cell_type": "markdown",
   "metadata": {},
   "source": [
    "Este método tiene integrado 3 funciones adicionales: get_k(T), get_C(T) y get_ZUCS_R(C,R) para calcular el exponente relacionado con el periodo, el factor de amplificacion sismica, y el coeficiente sismico respectivamente."
   ]
  },
  {
   "cell_type": "code",
   "execution_count": 19,
   "metadata": {},
   "outputs": [
    {
     "name": "stdout",
     "output_type": "stream",
     "text": [
      "Factor de Reduccion con Irregularidades en X: R=3.5999999999999996\n",
      "Factor de Reduccion con Irregularidades en Y: R=3.15\n",
      "C en X: 2.50\n",
      "C en Y: 2.50\n",
      "\n",
      "Coeficiente de sismo estático X: 0.328\n",
      "Coeficiente de sismo estático Y: 0.328\n",
      "Exponente de altura X: 1.00\n",
      "Exponente de altura Y: 1.00\n"
     ]
    }
   ],
   "source": [
    "sismo.sismo_estatico(SapModel,report=True)"
   ]
  },
  {
   "cell_type": "markdown",
   "metadata": {},
   "source": [
    "### 4.2 REVISIÓN POR TORSIÓN"
   ]
  },
  {
   "cell_type": "markdown",
   "metadata": {},
   "source": [
    "Esta seccion esta comprendida por la función: *irregularidad_torsion(self,SapModel)*, "
   ]
  },
  {
   "cell_type": "markdown",
   "metadata": {},
   "source": [
    "### FUNCIÓN: irregularidad_torsion(self,SapModel)\n",
    "\n",
    "La finalidad de esta función es hacer la verificación de irregularidad torsional de la edificación. Empieza por leer los datos de la tabla de resultados \"Story Max Over Avg Drifts\" del modelo ETABS, ordena esta tabla para una mejor visualización y hace la comparacion de los datos para ver si cumple con los requisitos de la tabla N°9 de la NTE E0.30. Termina por definir dicha tabla de resultados."
   ]
  },
  {
   "cell_type": "code",
   "execution_count": 20,
   "metadata": {},
   "outputs": [
    {
     "name": "stdout",
     "output_type": "stream",
     "text": [
      "Help on method irregularidad_torsion in module lib.sismo_utils:\n",
      "\n",
      "irregularidad_torsion(SapModel) method of lib.sismo_utils.Sismo_e30 instance\n",
      "    Registra en un DataFrame la tabla de derivas maximas de entrepiso, \n",
      "    deriva promedio y la razon de derivas maximas sobre derivas promedios\n",
      "    \n",
      "    Parámetros\n",
      "    ----------\n",
      "    SapModel: objeto propio del ETABS\n",
      "    loads: Casos de carga\n",
      "    max_drift: deriva máxima\n",
      "    R: coeficiente de reduccion sismica\n",
      "    is_regular: boleano, true si es regular, false si es irregular\n",
      "    \n",
      "    Returns\n",
      "    -------\n",
      "    table: DataFrame que contiene la tabla \"Story Max Over Avg Drifts\", Max Drift,\n",
      "    Avg Drift y Ratio\n",
      "\n"
     ]
    }
   ],
   "source": [
    "help(sismo.irregularidad_torsion)"
   ]
  },
  {
   "cell_type": "code",
   "execution_count": 21,
   "metadata": {},
   "outputs": [],
   "source": [
    "sismo.irregularidad_torsion(SapModel)"
   ]
  },
  {
   "cell_type": "code",
   "execution_count": 22,
   "metadata": {},
   "outputs": [
    {
     "data": {
      "text/html": [
       "<div>\n",
       "<style scoped>\n",
       "    .dataframe tbody tr th:only-of-type {\n",
       "        vertical-align: middle;\n",
       "    }\n",
       "\n",
       "    .dataframe tbody tr th {\n",
       "        vertical-align: top;\n",
       "    }\n",
       "\n",
       "    .dataframe thead th {\n",
       "        text-align: right;\n",
       "    }\n",
       "</style>\n",
       "<table border=\"1\" class=\"dataframe\">\n",
       "  <thead>\n",
       "    <tr style=\"text-align: right;\">\n",
       "      <th></th>\n",
       "      <th>Story</th>\n",
       "      <th>OutputCase</th>\n",
       "      <th>Direction</th>\n",
       "      <th>Max Drift</th>\n",
       "      <th>Avg Drift</th>\n",
       "      <th>Ratio</th>\n",
       "      <th>Height</th>\n",
       "      <th>Drifts</th>\n",
       "      <th>Drift &lt; Dmax/2</th>\n",
       "      <th>tor_reg</th>\n",
       "    </tr>\n",
       "  </thead>\n",
       "  <tbody>\n",
       "    <tr>\n",
       "      <th>0</th>\n",
       "      <td>Story3</td>\n",
       "      <td>Sx</td>\n",
       "      <td>X</td>\n",
       "      <td>0.004506</td>\n",
       "      <td>0.004149</td>\n",
       "      <td>1.086</td>\n",
       "      <td>3.6</td>\n",
       "      <td>0.016222</td>\n",
       "      <td>False</td>\n",
       "      <td>Regular</td>\n",
       "    </tr>\n",
       "    <tr>\n",
       "      <th>1</th>\n",
       "      <td>Story3</td>\n",
       "      <td>Sy</td>\n",
       "      <td>Y</td>\n",
       "      <td>0.001968</td>\n",
       "      <td>0.001916</td>\n",
       "      <td>1.027</td>\n",
       "      <td>3.6</td>\n",
       "      <td>0.006199</td>\n",
       "      <td>False</td>\n",
       "      <td>Regular</td>\n",
       "    </tr>\n",
       "    <tr>\n",
       "      <th>2</th>\n",
       "      <td>Story3</td>\n",
       "      <td>SDx Max</td>\n",
       "      <td>X</td>\n",
       "      <td>0.004028</td>\n",
       "      <td>0.003867</td>\n",
       "      <td>1.042</td>\n",
       "      <td>3.6</td>\n",
       "      <td>0.014501</td>\n",
       "      <td>False</td>\n",
       "      <td>Regular</td>\n",
       "    </tr>\n",
       "    <tr>\n",
       "      <th>3</th>\n",
       "      <td>Story3</td>\n",
       "      <td>SDx Max</td>\n",
       "      <td>Y</td>\n",
       "      <td>0.000643</td>\n",
       "      <td>0.000622</td>\n",
       "      <td>1.034</td>\n",
       "      <td>3.6</td>\n",
       "      <td>0.002315</td>\n",
       "      <td>True</td>\n",
       "      <td>Regular</td>\n",
       "    </tr>\n",
       "    <tr>\n",
       "      <th>4</th>\n",
       "      <td>Story3</td>\n",
       "      <td>SDy Max</td>\n",
       "      <td>X</td>\n",
       "      <td>0.001227</td>\n",
       "      <td>0.00117</td>\n",
       "      <td>1.049</td>\n",
       "      <td>3.6</td>\n",
       "      <td>0.004417</td>\n",
       "      <td>False</td>\n",
       "      <td>Regular</td>\n",
       "    </tr>\n",
       "    <tr>\n",
       "      <th>5</th>\n",
       "      <td>Story3</td>\n",
       "      <td>SDy Max</td>\n",
       "      <td>Y</td>\n",
       "      <td>0.00176</td>\n",
       "      <td>0.001751</td>\n",
       "      <td>1.005</td>\n",
       "      <td>3.6</td>\n",
       "      <td>0.006336</td>\n",
       "      <td>False</td>\n",
       "      <td>Regular</td>\n",
       "    </tr>\n",
       "    <tr>\n",
       "      <th>6</th>\n",
       "      <td>Story2</td>\n",
       "      <td>Sx</td>\n",
       "      <td>X</td>\n",
       "      <td>0.005596</td>\n",
       "      <td>0.005195</td>\n",
       "      <td>1.077</td>\n",
       "      <td>3.6</td>\n",
       "      <td>0.020146</td>\n",
       "      <td>False</td>\n",
       "      <td>Regular</td>\n",
       "    </tr>\n",
       "    <tr>\n",
       "      <th>7</th>\n",
       "      <td>Story2</td>\n",
       "      <td>Sy</td>\n",
       "      <td>Y</td>\n",
       "      <td>0.002598</td>\n",
       "      <td>0.002536</td>\n",
       "      <td>1.024</td>\n",
       "      <td>3.6</td>\n",
       "      <td>0.008184</td>\n",
       "      <td>False</td>\n",
       "      <td>Regular</td>\n",
       "    </tr>\n",
       "    <tr>\n",
       "      <th>8</th>\n",
       "      <td>Story2</td>\n",
       "      <td>SDx Max</td>\n",
       "      <td>X</td>\n",
       "      <td>0.004952</td>\n",
       "      <td>0.004773</td>\n",
       "      <td>1.037</td>\n",
       "      <td>3.6</td>\n",
       "      <td>0.017827</td>\n",
       "      <td>False</td>\n",
       "      <td>Regular</td>\n",
       "    </tr>\n",
       "    <tr>\n",
       "      <th>9</th>\n",
       "      <td>Story2</td>\n",
       "      <td>SDx Max</td>\n",
       "      <td>Y</td>\n",
       "      <td>0.000826</td>\n",
       "      <td>0.000802</td>\n",
       "      <td>1.03</td>\n",
       "      <td>3.6</td>\n",
       "      <td>0.002974</td>\n",
       "      <td>True</td>\n",
       "      <td>Regular</td>\n",
       "    </tr>\n",
       "    <tr>\n",
       "      <th>10</th>\n",
       "      <td>Story2</td>\n",
       "      <td>SDy Max</td>\n",
       "      <td>X</td>\n",
       "      <td>0.001508</td>\n",
       "      <td>0.001443</td>\n",
       "      <td>1.045</td>\n",
       "      <td>3.6</td>\n",
       "      <td>0.005429</td>\n",
       "      <td>False</td>\n",
       "      <td>Regular</td>\n",
       "    </tr>\n",
       "    <tr>\n",
       "      <th>11</th>\n",
       "      <td>Story2</td>\n",
       "      <td>SDy Max</td>\n",
       "      <td>Y</td>\n",
       "      <td>0.002307</td>\n",
       "      <td>0.002297</td>\n",
       "      <td>1.004</td>\n",
       "      <td>3.6</td>\n",
       "      <td>0.008305</td>\n",
       "      <td>False</td>\n",
       "      <td>Regular</td>\n",
       "    </tr>\n",
       "    <tr>\n",
       "      <th>12</th>\n",
       "      <td>Story1</td>\n",
       "      <td>Sx</td>\n",
       "      <td>X</td>\n",
       "      <td>0.005557</td>\n",
       "      <td>0.005196</td>\n",
       "      <td>1.069</td>\n",
       "      <td>5</td>\n",
       "      <td>0.020005</td>\n",
       "      <td>False</td>\n",
       "      <td>Regular</td>\n",
       "    </tr>\n",
       "    <tr>\n",
       "      <th>13</th>\n",
       "      <td>Story1</td>\n",
       "      <td>Sy</td>\n",
       "      <td>Y</td>\n",
       "      <td>0.002673</td>\n",
       "      <td>0.002615</td>\n",
       "      <td>1.022</td>\n",
       "      <td>5</td>\n",
       "      <td>0.008420</td>\n",
       "      <td>False</td>\n",
       "      <td>Regular</td>\n",
       "    </tr>\n",
       "    <tr>\n",
       "      <th>14</th>\n",
       "      <td>Story1</td>\n",
       "      <td>SDx Max</td>\n",
       "      <td>X</td>\n",
       "      <td>0.004885</td>\n",
       "      <td>0.004718</td>\n",
       "      <td>1.036</td>\n",
       "      <td>5</td>\n",
       "      <td>0.017586</td>\n",
       "      <td>False</td>\n",
       "      <td>Regular</td>\n",
       "    </tr>\n",
       "    <tr>\n",
       "      <th>15</th>\n",
       "      <td>Story1</td>\n",
       "      <td>SDx Max</td>\n",
       "      <td>Y</td>\n",
       "      <td>0.00083</td>\n",
       "      <td>0.000808</td>\n",
       "      <td>1.028</td>\n",
       "      <td>5</td>\n",
       "      <td>0.002988</td>\n",
       "      <td>True</td>\n",
       "      <td>Regular</td>\n",
       "    </tr>\n",
       "    <tr>\n",
       "      <th>16</th>\n",
       "      <td>Story1</td>\n",
       "      <td>SDy Max</td>\n",
       "      <td>X</td>\n",
       "      <td>0.001486</td>\n",
       "      <td>0.001426</td>\n",
       "      <td>1.042</td>\n",
       "      <td>5</td>\n",
       "      <td>0.005350</td>\n",
       "      <td>False</td>\n",
       "      <td>Regular</td>\n",
       "    </tr>\n",
       "    <tr>\n",
       "      <th>17</th>\n",
       "      <td>Story1</td>\n",
       "      <td>SDy Max</td>\n",
       "      <td>Y</td>\n",
       "      <td>0.002355</td>\n",
       "      <td>0.002346</td>\n",
       "      <td>1.004</td>\n",
       "      <td>5</td>\n",
       "      <td>0.008478</td>\n",
       "      <td>False</td>\n",
       "      <td>Regular</td>\n",
       "    </tr>\n",
       "  </tbody>\n",
       "</table>\n",
       "</div>"
      ],
      "text/plain": [
       "     Story OutputCase Direction Max Drift Avg Drift  Ratio Height    Drifts  \\\n",
       "0   Story3        Sx          X  0.004506  0.004149  1.086    3.6  0.016222   \n",
       "1   Story3        Sy          Y  0.001968  0.001916  1.027    3.6  0.006199   \n",
       "2   Story3    SDx Max         X  0.004028  0.003867  1.042    3.6  0.014501   \n",
       "3   Story3    SDx Max         Y  0.000643  0.000622  1.034    3.6  0.002315   \n",
       "4   Story3    SDy Max         X  0.001227   0.00117  1.049    3.6  0.004417   \n",
       "5   Story3    SDy Max         Y   0.00176  0.001751  1.005    3.6  0.006336   \n",
       "6   Story2        Sx          X  0.005596  0.005195  1.077    3.6  0.020146   \n",
       "7   Story2        Sy          Y  0.002598  0.002536  1.024    3.6  0.008184   \n",
       "8   Story2    SDx Max         X  0.004952  0.004773  1.037    3.6  0.017827   \n",
       "9   Story2    SDx Max         Y  0.000826  0.000802   1.03    3.6  0.002974   \n",
       "10  Story2    SDy Max         X  0.001508  0.001443  1.045    3.6  0.005429   \n",
       "11  Story2    SDy Max         Y  0.002307  0.002297  1.004    3.6  0.008305   \n",
       "12  Story1        Sx          X  0.005557  0.005196  1.069      5  0.020005   \n",
       "13  Story1        Sy          Y  0.002673  0.002615  1.022      5  0.008420   \n",
       "14  Story1    SDx Max         X  0.004885  0.004718  1.036      5  0.017586   \n",
       "15  Story1    SDx Max         Y   0.00083  0.000808  1.028      5  0.002988   \n",
       "16  Story1    SDy Max         X  0.001486  0.001426  1.042      5  0.005350   \n",
       "17  Story1    SDy Max         Y  0.002355  0.002346  1.004      5  0.008478   \n",
       "\n",
       "    Drift < Dmax/2  tor_reg  \n",
       "0            False  Regular  \n",
       "1            False  Regular  \n",
       "2            False  Regular  \n",
       "3             True  Regular  \n",
       "4            False  Regular  \n",
       "5            False  Regular  \n",
       "6            False  Regular  \n",
       "7            False  Regular  \n",
       "8            False  Regular  \n",
       "9             True  Regular  \n",
       "10           False  Regular  \n",
       "11           False  Regular  \n",
       "12           False  Regular  \n",
       "13           False  Regular  \n",
       "14           False  Regular  \n",
       "15            True  Regular  \n",
       "16           False  Regular  \n",
       "17           False  Regular  "
      ]
     },
     "metadata": {},
     "output_type": "display_data"
    }
   ],
   "source": [
    "display(sismo.tables.torsion_table)"
   ]
  },
  {
   "cell_type": "markdown",
   "metadata": {},
   "source": [
    "### 4.3 REVISIÓN POR PISO BLANDO"
   ]
  },
  {
   "cell_type": "markdown",
   "metadata": {},
   "source": [
    "Esta seccion esta comprendida por la función: *piso_blando(self,SapModel)* "
   ]
  },
  {
   "cell_type": "markdown",
   "metadata": {},
   "source": [
    "### FUNCIÓN: piso_blando(self,SapModel)\n",
    "\n",
    "La finalidad de esta función es hacer la verificación de la irregularidad en altura de piso blando o irregularidad de Rigidez segun los requisitos de la Tabla N°8 de la norma NTE E0.30. Lo que hace es leer los casos de sismo estatico y dinámicos definidos en el modelo y que fueron definidos en la lista se de sis_loads, luego obtiene las tablas de 'Diaphragm Center Of Mass Displacements' y 'Story Forces' las cuales las modifica para obtener los desplazamientos relativos de entrepiso y con ello la rigidez lateral de entrepiso, tal como se indica en la norma NTE E0.30, luego procede a hacer las verificaciones (70% de la rigidez lateral del entrepiso inmediato superior y 80% de la rigidez lateral promedio de los tres niveles superiores adyacentes). Termina por definir la tabla *self.tables.piso_blando_table* donde esta indicado dicho procedimiento."
   ]
  },
  {
   "cell_type": "code",
   "execution_count": 23,
   "metadata": {},
   "outputs": [
    {
     "name": "stdout",
     "output_type": "stream",
     "text": [
      "Help on method piso_blando in module lib.sismo_utils:\n",
      "\n",
      "piso_blando(SapModel) method of lib.sismo_utils.Sismo_e30 instance\n",
      "\n"
     ]
    }
   ],
   "source": [
    "help(sismo.piso_blando)"
   ]
  },
  {
   "cell_type": "code",
   "execution_count": 24,
   "metadata": {},
   "outputs": [],
   "source": [
    "sismo.piso_blando(SapModel)"
   ]
  },
  {
   "cell_type": "code",
   "execution_count": 25,
   "metadata": {},
   "outputs": [
    {
     "data": {
      "text/html": [
       "<div>\n",
       "<style scoped>\n",
       "    .dataframe tbody tr th:only-of-type {\n",
       "        vertical-align: middle;\n",
       "    }\n",
       "\n",
       "    .dataframe tbody tr th {\n",
       "        vertical-align: top;\n",
       "    }\n",
       "\n",
       "    .dataframe thead th {\n",
       "        text-align: right;\n",
       "    }\n",
       "</style>\n",
       "<table border=\"1\" class=\"dataframe\">\n",
       "  <thead>\n",
       "    <tr style=\"text-align: right;\">\n",
       "      <th></th>\n",
       "      <th>Story</th>\n",
       "      <th>OutputCase</th>\n",
       "      <th>UX</th>\n",
       "      <th>UY</th>\n",
       "      <th>ΔUX</th>\n",
       "      <th>ΔUY</th>\n",
       "      <th>VX</th>\n",
       "      <th>VY</th>\n",
       "      <th>lat_rig(k)</th>\n",
       "      <th>0.7_prev_k</th>\n",
       "      <th>0.8k_prom</th>\n",
       "      <th>is_reg</th>\n",
       "    </tr>\n",
       "  </thead>\n",
       "  <tbody>\n",
       "    <tr>\n",
       "      <th>0</th>\n",
       "      <td>Story3</td>\n",
       "      <td>Sy</td>\n",
       "      <td>-3E-06</td>\n",
       "      <td>0.007068</td>\n",
       "      <td>-0.000005</td>\n",
       "      <td>1.916000e-03</td>\n",
       "      <td>0</td>\n",
       "      <td>-34.4361</td>\n",
       "      <td>17972.912317</td>\n",
       "      <td>0.000000</td>\n",
       "      <td>0.0</td>\n",
       "      <td>Regular</td>\n",
       "    </tr>\n",
       "    <tr>\n",
       "      <th>1</th>\n",
       "      <td>Story2</td>\n",
       "      <td>Sy</td>\n",
       "      <td>2E-06</td>\n",
       "      <td>0.005152</td>\n",
       "      <td>0.000001</td>\n",
       "      <td>2.537000e-03</td>\n",
       "      <td>0</td>\n",
       "      <td>-71.0163</td>\n",
       "      <td>27992.234923</td>\n",
       "      <td>12581.038622</td>\n",
       "      <td>0.0</td>\n",
       "      <td>Regular</td>\n",
       "    </tr>\n",
       "    <tr>\n",
       "      <th>2</th>\n",
       "      <td>Story1</td>\n",
       "      <td>Sy</td>\n",
       "      <td>1E-06</td>\n",
       "      <td>0.002615</td>\n",
       "      <td>0.000001</td>\n",
       "      <td>2.615000e-03</td>\n",
       "      <td>0</td>\n",
       "      <td>-93.4545</td>\n",
       "      <td>35737.858509</td>\n",
       "      <td>19594.564446</td>\n",
       "      <td>0.0</td>\n",
       "      <td>Regular</td>\n",
       "    </tr>\n",
       "    <tr>\n",
       "      <th>3</th>\n",
       "      <td>Story3</td>\n",
       "      <td>SDx Max</td>\n",
       "      <td>0.012806</td>\n",
       "      <td>0.001874</td>\n",
       "      <td>0.003676</td>\n",
       "      <td>5.090000e-04</td>\n",
       "      <td>37.5374</td>\n",
       "      <td>9.565</td>\n",
       "      <td>18791.748527</td>\n",
       "      <td>0.000000</td>\n",
       "      <td>0.0</td>\n",
       "      <td>Regular</td>\n",
       "    </tr>\n",
       "    <tr>\n",
       "      <th>4</th>\n",
       "      <td>Story2</td>\n",
       "      <td>SDx Max</td>\n",
       "      <td>0.00913</td>\n",
       "      <td>0.001365</td>\n",
       "      <td>0.004582</td>\n",
       "      <td>6.740000e-04</td>\n",
       "      <td>74.2772</td>\n",
       "      <td>19.1643</td>\n",
       "      <td>28433.679525</td>\n",
       "      <td>13154.223969</td>\n",
       "      <td>0.0</td>\n",
       "      <td>Regular</td>\n",
       "    </tr>\n",
       "    <tr>\n",
       "      <th>5</th>\n",
       "      <td>Story1</td>\n",
       "      <td>SDx Max</td>\n",
       "      <td>0.004548</td>\n",
       "      <td>0.000691</td>\n",
       "      <td>0.004548</td>\n",
       "      <td>6.910000e-04</td>\n",
       "      <td>95.2085</td>\n",
       "      <td>24.6712</td>\n",
       "      <td>35703.617945</td>\n",
       "      <td>19903.575668</td>\n",
       "      <td>0.0</td>\n",
       "      <td>Regular</td>\n",
       "    </tr>\n",
       "    <tr>\n",
       "      <th>6</th>\n",
       "      <td>Story3</td>\n",
       "      <td>Sx</td>\n",
       "      <td>0.014536</td>\n",
       "      <td>0</td>\n",
       "      <td>0.004159</td>\n",
       "      <td>1.000000e-06</td>\n",
       "      <td>-40.1777</td>\n",
       "      <td>0</td>\n",
       "      <td>9660.423179</td>\n",
       "      <td>0.000000</td>\n",
       "      <td>0.0</td>\n",
       "      <td>Regular</td>\n",
       "    </tr>\n",
       "    <tr>\n",
       "      <th>7</th>\n",
       "      <td>Story2</td>\n",
       "      <td>Sx</td>\n",
       "      <td>0.010377</td>\n",
       "      <td>-1E-06</td>\n",
       "      <td>0.005187</td>\n",
       "      <td>-6.553000e-07</td>\n",
       "      <td>-82.857</td>\n",
       "      <td>0</td>\n",
       "      <td>15973.973395</td>\n",
       "      <td>6762.296225</td>\n",
       "      <td>0.0</td>\n",
       "      <td>Regular</td>\n",
       "    </tr>\n",
       "    <tr>\n",
       "      <th>8</th>\n",
       "      <td>Story1</td>\n",
       "      <td>Sx</td>\n",
       "      <td>0.00519</td>\n",
       "      <td>-3.447E-07</td>\n",
       "      <td>0.005190</td>\n",
       "      <td>-3.447000e-07</td>\n",
       "      <td>-109.0364</td>\n",
       "      <td>0</td>\n",
       "      <td>21008.940270</td>\n",
       "      <td>11181.781377</td>\n",
       "      <td>0.0</td>\n",
       "      <td>Regular</td>\n",
       "    </tr>\n",
       "    <tr>\n",
       "      <th>9</th>\n",
       "      <td>Story3</td>\n",
       "      <td>SDy Max</td>\n",
       "      <td>0.003842</td>\n",
       "      <td>0.006248</td>\n",
       "      <td>0.001103</td>\n",
       "      <td>1.699000e-03</td>\n",
       "      <td>11.2612</td>\n",
       "      <td>31.8832</td>\n",
       "      <td>18765.862272</td>\n",
       "      <td>0.000000</td>\n",
       "      <td>0.0</td>\n",
       "      <td>Regular</td>\n",
       "    </tr>\n",
       "    <tr>\n",
       "      <th>10</th>\n",
       "      <td>Story2</td>\n",
       "      <td>SDy Max</td>\n",
       "      <td>0.002739</td>\n",
       "      <td>0.004549</td>\n",
       "      <td>0.001374</td>\n",
       "      <td>2.246000e-03</td>\n",
       "      <td>22.2832</td>\n",
       "      <td>63.8809</td>\n",
       "      <td>28442.074800</td>\n",
       "      <td>13136.103590</td>\n",
       "      <td>0.0</td>\n",
       "      <td>Regular</td>\n",
       "    </tr>\n",
       "    <tr>\n",
       "      <th>11</th>\n",
       "      <td>Story1</td>\n",
       "      <td>SDy Max</td>\n",
       "      <td>0.001365</td>\n",
       "      <td>0.002303</td>\n",
       "      <td>0.001365</td>\n",
       "      <td>2.303000e-03</td>\n",
       "      <td>28.5626</td>\n",
       "      <td>82.2373</td>\n",
       "      <td>35708.771168</td>\n",
       "      <td>19909.452360</td>\n",
       "      <td>0.0</td>\n",
       "      <td>Regular</td>\n",
       "    </tr>\n",
       "  </tbody>\n",
       "</table>\n",
       "</div>"
      ],
      "text/plain": [
       "     Story OutputCase        UX          UY       ΔUX           ΔUY  \\\n",
       "0   Story3         Sy    -3E-06    0.007068 -0.000005  1.916000e-03   \n",
       "1   Story2         Sy     2E-06    0.005152  0.000001  2.537000e-03   \n",
       "2   Story1         Sy     1E-06    0.002615  0.000001  2.615000e-03   \n",
       "3   Story3    SDx Max  0.012806    0.001874  0.003676  5.090000e-04   \n",
       "4   Story2    SDx Max   0.00913    0.001365  0.004582  6.740000e-04   \n",
       "5   Story1    SDx Max  0.004548    0.000691  0.004548  6.910000e-04   \n",
       "6   Story3         Sx  0.014536           0  0.004159  1.000000e-06   \n",
       "7   Story2         Sx  0.010377      -1E-06  0.005187 -6.553000e-07   \n",
       "8   Story1         Sx   0.00519  -3.447E-07  0.005190 -3.447000e-07   \n",
       "9   Story3    SDy Max  0.003842    0.006248  0.001103  1.699000e-03   \n",
       "10  Story2    SDy Max  0.002739    0.004549  0.001374  2.246000e-03   \n",
       "11  Story1    SDy Max  0.001365    0.002303  0.001365  2.303000e-03   \n",
       "\n",
       "           VX        VY    lat_rig(k)    0.7_prev_k  0.8k_prom   is_reg  \n",
       "0           0  -34.4361  17972.912317      0.000000        0.0  Regular  \n",
       "1           0  -71.0163  27992.234923  12581.038622        0.0  Regular  \n",
       "2           0  -93.4545  35737.858509  19594.564446        0.0  Regular  \n",
       "3     37.5374     9.565  18791.748527      0.000000        0.0  Regular  \n",
       "4     74.2772   19.1643  28433.679525  13154.223969        0.0  Regular  \n",
       "5     95.2085   24.6712  35703.617945  19903.575668        0.0  Regular  \n",
       "6    -40.1777         0   9660.423179      0.000000        0.0  Regular  \n",
       "7     -82.857         0  15973.973395   6762.296225        0.0  Regular  \n",
       "8   -109.0364         0  21008.940270  11181.781377        0.0  Regular  \n",
       "9     11.2612   31.8832  18765.862272      0.000000        0.0  Regular  \n",
       "10    22.2832   63.8809  28442.074800  13136.103590        0.0  Regular  \n",
       "11    28.5626   82.2373  35708.771168  19909.452360        0.0  Regular  "
      ]
     },
     "metadata": {},
     "output_type": "display_data"
    }
   ],
   "source": [
    "display(sismo.tables.piso_blando_table)"
   ]
  },
  {
   "cell_type": "markdown",
   "metadata": {},
   "source": [
    "### 4.4 REVISIÓN POR MASA O PESO"
   ]
  },
  {
   "cell_type": "markdown",
   "metadata": {},
   "source": [
    "Esta seccion esta comprendida por la función: *irregularidad_masa(self,SapModel)* "
   ]
  },
  {
   "cell_type": "markdown",
   "metadata": {},
   "source": [
    "### FUNCIÓN: irregularidad_masa(self,SapModel)\n",
    "\n",
    "La finalidad de esta función es hacer la verificación de la irregularidad en altura de masa o peso, para ello obtiene la tabla 'Mass Summary by Story' del modelo ETABS, define los pisos (excepto azoteas y sótanos) y compara la masa en cada piso. Si la masa supera 1.5 veces el masa del piso superior o del inferior indica que es irregular."
   ]
  },
  {
   "cell_type": "code",
   "execution_count": 26,
   "metadata": {},
   "outputs": [
    {
     "name": "stdout",
     "output_type": "stream",
     "text": [
      "Help on method irregularidad_masa in module lib.sismo_utils:\n",
      "\n",
      "irregularidad_masa(SapModel) method of lib.sismo_utils.Sismo_e30 instance\n",
      "\n"
     ]
    }
   ],
   "source": [
    "help(sismo.irregularidad_masa)"
   ]
  },
  {
   "cell_type": "code",
   "execution_count": 27,
   "metadata": {},
   "outputs": [],
   "source": [
    "sismo.irregularidad_masa(SapModel)"
   ]
  },
  {
   "cell_type": "code",
   "execution_count": 28,
   "metadata": {},
   "outputs": [
    {
     "data": {
      "text/html": [
       "<div>\n",
       "<style scoped>\n",
       "    .dataframe tbody tr th:only-of-type {\n",
       "        vertical-align: middle;\n",
       "    }\n",
       "\n",
       "    .dataframe tbody tr th {\n",
       "        vertical-align: top;\n",
       "    }\n",
       "\n",
       "    .dataframe thead th {\n",
       "        text-align: right;\n",
       "    }\n",
       "</style>\n",
       "<table border=\"1\" class=\"dataframe\">\n",
       "  <thead>\n",
       "    <tr style=\"text-align: right;\">\n",
       "      <th></th>\n",
       "      <th>Story</th>\n",
       "      <th>Mass</th>\n",
       "      <th>1.5 Mass</th>\n",
       "      <th>story_type</th>\n",
       "      <th>is_regular</th>\n",
       "    </tr>\n",
       "  </thead>\n",
       "  <tbody>\n",
       "    <tr>\n",
       "      <th>0</th>\n",
       "      <td>Story3</td>\n",
       "      <td>9.19054</td>\n",
       "      <td></td>\n",
       "      <td>Azotea</td>\n",
       "      <td>Regular</td>\n",
       "    </tr>\n",
       "    <tr>\n",
       "      <th>1</th>\n",
       "      <td>Story2</td>\n",
       "      <td>13.84954</td>\n",
       "      <td>20.77431</td>\n",
       "      <td>Piso</td>\n",
       "      <td>Regular</td>\n",
       "    </tr>\n",
       "    <tr>\n",
       "      <th>2</th>\n",
       "      <td>Story1</td>\n",
       "      <td>14.61188</td>\n",
       "      <td>21.91782</td>\n",
       "      <td>Piso</td>\n",
       "      <td>Regular</td>\n",
       "    </tr>\n",
       "    <tr>\n",
       "      <th>3</th>\n",
       "      <td>Base</td>\n",
       "      <td>2.72264</td>\n",
       "      <td></td>\n",
       "      <td>Sotano</td>\n",
       "      <td>Regular</td>\n",
       "    </tr>\n",
       "  </tbody>\n",
       "</table>\n",
       "</div>"
      ],
      "text/plain": [
       "    Story      Mass  1.5 Mass story_type is_regular\n",
       "0  Story3   9.19054               Azotea    Regular\n",
       "1  Story2  13.84954  20.77431       Piso    Regular\n",
       "2  Story1  14.61188  21.91782       Piso    Regular\n",
       "3    Base   2.72264               Sotano    Regular"
      ]
     },
     "execution_count": 28,
     "metadata": {},
     "output_type": "execute_result"
    }
   ],
   "source": [
    "sismo.tables.rev_masa_table"
   ]
  },
  {
   "cell_type": "markdown",
   "metadata": {},
   "source": [
    "### 4.5 REVISION DE DERIVAS DE ENTREPISO"
   ]
  },
  {
   "cell_type": "markdown",
   "metadata": {},
   "source": [
    "Esta seccion esta comprendida por la función: *derivas(self)* "
   ]
  },
  {
   "cell_type": "markdown",
   "metadata": {},
   "source": [
    "### FUNCIÓN: derivas(self):\n",
    "\n",
    "La finalidad de esta función es hacer la verificación de las derivas de entrepiso maxima con la maxima deriva permitida según la tabla N°11 de la NTE E0.30. Se obtiene la tabla con las maximas derivas de entrepiso y se hace la comparación con la maxima deriva de entrepiso."
   ]
  },
  {
   "cell_type": "code",
   "execution_count": 29,
   "metadata": {},
   "outputs": [
    {
     "name": "stdout",
     "output_type": "stream",
     "text": [
      "Help on method derivas in module lib.sismo_utils:\n",
      "\n",
      "derivas() method of lib.sismo_utils.Sismo_e30 instance\n",
      "    # Derivas\n",
      "\n"
     ]
    }
   ],
   "source": [
    "help(sismo.derivas)"
   ]
  },
  {
   "cell_type": "code",
   "execution_count": 30,
   "metadata": {},
   "outputs": [],
   "source": [
    "sismo.derivas()"
   ]
  },
  {
   "cell_type": "code",
   "execution_count": 32,
   "metadata": {},
   "outputs": [
    {
     "data": {
      "text/html": [
       "<div>\n",
       "<style scoped>\n",
       "    .dataframe tbody tr th:only-of-type {\n",
       "        vertical-align: middle;\n",
       "    }\n",
       "\n",
       "    .dataframe tbody tr th {\n",
       "        vertical-align: top;\n",
       "    }\n",
       "\n",
       "    .dataframe thead th {\n",
       "        text-align: right;\n",
       "    }\n",
       "</style>\n",
       "<table border=\"1\" class=\"dataframe\">\n",
       "  <thead>\n",
       "    <tr style=\"text-align: right;\">\n",
       "      <th></th>\n",
       "      <th>Story</th>\n",
       "      <th>OutputCase</th>\n",
       "      <th>Direction</th>\n",
       "      <th>Drifts</th>\n",
       "      <th>Drift_Check</th>\n",
       "    </tr>\n",
       "  </thead>\n",
       "  <tbody>\n",
       "    <tr>\n",
       "      <th>0</th>\n",
       "      <td>Story3</td>\n",
       "      <td>Sx</td>\n",
       "      <td>X</td>\n",
       "      <td>0.016222</td>\n",
       "      <td>No Cumple</td>\n",
       "    </tr>\n",
       "    <tr>\n",
       "      <th>1</th>\n",
       "      <td>Story3</td>\n",
       "      <td>Sy</td>\n",
       "      <td>Y</td>\n",
       "      <td>0.006199</td>\n",
       "      <td>Cumple</td>\n",
       "    </tr>\n",
       "    <tr>\n",
       "      <th>2</th>\n",
       "      <td>Story3</td>\n",
       "      <td>SDx Max</td>\n",
       "      <td>X</td>\n",
       "      <td>0.014501</td>\n",
       "      <td>No Cumple</td>\n",
       "    </tr>\n",
       "    <tr>\n",
       "      <th>3</th>\n",
       "      <td>Story3</td>\n",
       "      <td>SDx Max</td>\n",
       "      <td>Y</td>\n",
       "      <td>0.002315</td>\n",
       "      <td>Cumple</td>\n",
       "    </tr>\n",
       "    <tr>\n",
       "      <th>4</th>\n",
       "      <td>Story3</td>\n",
       "      <td>SDy Max</td>\n",
       "      <td>X</td>\n",
       "      <td>0.004417</td>\n",
       "      <td>Cumple</td>\n",
       "    </tr>\n",
       "    <tr>\n",
       "      <th>5</th>\n",
       "      <td>Story3</td>\n",
       "      <td>SDy Max</td>\n",
       "      <td>Y</td>\n",
       "      <td>0.006336</td>\n",
       "      <td>Cumple</td>\n",
       "    </tr>\n",
       "    <tr>\n",
       "      <th>6</th>\n",
       "      <td>Story2</td>\n",
       "      <td>Sx</td>\n",
       "      <td>X</td>\n",
       "      <td>0.020146</td>\n",
       "      <td>No Cumple</td>\n",
       "    </tr>\n",
       "    <tr>\n",
       "      <th>7</th>\n",
       "      <td>Story2</td>\n",
       "      <td>Sy</td>\n",
       "      <td>Y</td>\n",
       "      <td>0.008184</td>\n",
       "      <td>No Cumple</td>\n",
       "    </tr>\n",
       "    <tr>\n",
       "      <th>8</th>\n",
       "      <td>Story2</td>\n",
       "      <td>SDx Max</td>\n",
       "      <td>X</td>\n",
       "      <td>0.017827</td>\n",
       "      <td>No Cumple</td>\n",
       "    </tr>\n",
       "    <tr>\n",
       "      <th>9</th>\n",
       "      <td>Story2</td>\n",
       "      <td>SDx Max</td>\n",
       "      <td>Y</td>\n",
       "      <td>0.002974</td>\n",
       "      <td>Cumple</td>\n",
       "    </tr>\n",
       "    <tr>\n",
       "      <th>10</th>\n",
       "      <td>Story2</td>\n",
       "      <td>SDy Max</td>\n",
       "      <td>X</td>\n",
       "      <td>0.005429</td>\n",
       "      <td>Cumple</td>\n",
       "    </tr>\n",
       "    <tr>\n",
       "      <th>11</th>\n",
       "      <td>Story2</td>\n",
       "      <td>SDy Max</td>\n",
       "      <td>Y</td>\n",
       "      <td>0.008305</td>\n",
       "      <td>No Cumple</td>\n",
       "    </tr>\n",
       "    <tr>\n",
       "      <th>12</th>\n",
       "      <td>Story1</td>\n",
       "      <td>Sx</td>\n",
       "      <td>X</td>\n",
       "      <td>0.020005</td>\n",
       "      <td>No Cumple</td>\n",
       "    </tr>\n",
       "    <tr>\n",
       "      <th>13</th>\n",
       "      <td>Story1</td>\n",
       "      <td>Sy</td>\n",
       "      <td>Y</td>\n",
       "      <td>0.008420</td>\n",
       "      <td>No Cumple</td>\n",
       "    </tr>\n",
       "    <tr>\n",
       "      <th>14</th>\n",
       "      <td>Story1</td>\n",
       "      <td>SDx Max</td>\n",
       "      <td>X</td>\n",
       "      <td>0.017586</td>\n",
       "      <td>No Cumple</td>\n",
       "    </tr>\n",
       "    <tr>\n",
       "      <th>15</th>\n",
       "      <td>Story1</td>\n",
       "      <td>SDx Max</td>\n",
       "      <td>Y</td>\n",
       "      <td>0.002988</td>\n",
       "      <td>Cumple</td>\n",
       "    </tr>\n",
       "    <tr>\n",
       "      <th>16</th>\n",
       "      <td>Story1</td>\n",
       "      <td>SDy Max</td>\n",
       "      <td>X</td>\n",
       "      <td>0.005350</td>\n",
       "      <td>Cumple</td>\n",
       "    </tr>\n",
       "    <tr>\n",
       "      <th>17</th>\n",
       "      <td>Story1</td>\n",
       "      <td>SDy Max</td>\n",
       "      <td>Y</td>\n",
       "      <td>0.008478</td>\n",
       "      <td>No Cumple</td>\n",
       "    </tr>\n",
       "  </tbody>\n",
       "</table>\n",
       "</div>"
      ],
      "text/plain": [
       "     Story OutputCase Direction    Drifts Drift_Check\n",
       "0   Story3        Sx          X  0.016222   No Cumple\n",
       "1   Story3        Sy          Y  0.006199      Cumple\n",
       "2   Story3    SDx Max         X  0.014501   No Cumple\n",
       "3   Story3    SDx Max         Y  0.002315      Cumple\n",
       "4   Story3    SDy Max         X  0.004417      Cumple\n",
       "5   Story3    SDy Max         Y  0.006336      Cumple\n",
       "6   Story2        Sx          X  0.020146   No Cumple\n",
       "7   Story2        Sy          Y  0.008184   No Cumple\n",
       "8   Story2    SDx Max         X  0.017827   No Cumple\n",
       "9   Story2    SDx Max         Y  0.002974      Cumple\n",
       "10  Story2    SDy Max         X  0.005429      Cumple\n",
       "11  Story2    SDy Max         Y  0.008305   No Cumple\n",
       "12  Story1        Sx          X  0.020005   No Cumple\n",
       "13  Story1        Sy          Y  0.008420   No Cumple\n",
       "14  Story1    SDx Max         X  0.017586   No Cumple\n",
       "15  Story1    SDx Max         Y  0.002988      Cumple\n",
       "16  Story1    SDy Max         X  0.005350      Cumple\n",
       "17  Story1    SDy Max         Y  0.008478   No Cumple"
      ]
     },
     "metadata": {},
     "output_type": "display_data"
    }
   ],
   "source": [
    "display(sismo.tables.drift_table)"
   ]
  },
  {
   "cell_type": "markdown",
   "metadata": {},
   "source": [
    "### 4.6 CENTRO DE MASAS Y RIGIDECES"
   ]
  },
  {
   "cell_type": "markdown",
   "metadata": {},
   "source": [
    "Esta seccion esta comprendida por la función: *derivas(self)* "
   ]
  },
  {
   "cell_type": "markdown",
   "metadata": {},
   "source": [
    "### FUNCIÓN: centro_masa_inercia(self,SapModel):\n",
    "\n",
    "La finalidad de esta función es obtener los centros de masa y rigidez por entrepiso extrayendo esta informacion de la tabla \"Centers Of Mass And Rigidity\" del modelo ETABS."
   ]
  },
  {
   "cell_type": "code",
   "execution_count": 33,
   "metadata": {},
   "outputs": [
    {
     "name": "stdout",
     "output_type": "stream",
     "text": [
      "Help on method centro_masa_inercia in module lib.sismo_utils:\n",
      "\n",
      "centro_masa_inercia(SapModel) method of lib.sismo_utils.Sismo_e30 instance\n",
      "\n"
     ]
    }
   ],
   "source": [
    "help(sismo.centro_masa_inercia)"
   ]
  },
  {
   "cell_type": "code",
   "execution_count": 34,
   "metadata": {},
   "outputs": [],
   "source": [
    "sismo.centro_masa_inercia(SapModel)"
   ]
  },
  {
   "cell_type": "code",
   "execution_count": 35,
   "metadata": {},
   "outputs": [
    {
     "data": {
      "text/html": [
       "<div>\n",
       "<style scoped>\n",
       "    .dataframe tbody tr th:only-of-type {\n",
       "        vertical-align: middle;\n",
       "    }\n",
       "\n",
       "    .dataframe tbody tr th {\n",
       "        vertical-align: top;\n",
       "    }\n",
       "\n",
       "    .dataframe thead th {\n",
       "        text-align: right;\n",
       "    }\n",
       "</style>\n",
       "<table border=\"1\" class=\"dataframe\">\n",
       "  <thead>\n",
       "    <tr style=\"text-align: right;\">\n",
       "      <th></th>\n",
       "      <th>Story</th>\n",
       "      <th>XCCM</th>\n",
       "      <th>XCR</th>\n",
       "      <th>YCCM</th>\n",
       "      <th>YCR</th>\n",
       "      <th>DifX</th>\n",
       "      <th>DifY</th>\n",
       "    </tr>\n",
       "  </thead>\n",
       "  <tbody>\n",
       "    <tr>\n",
       "      <th>0</th>\n",
       "      <td>Story3</td>\n",
       "      <td>3.135</td>\n",
       "      <td>3.135</td>\n",
       "      <td>7.4157</td>\n",
       "      <td>7.3571</td>\n",
       "      <td>0.0000</td>\n",
       "      <td>0.0586</td>\n",
       "    </tr>\n",
       "    <tr>\n",
       "      <th>1</th>\n",
       "      <td>Story2</td>\n",
       "      <td>3.1395</td>\n",
       "      <td>3.135</td>\n",
       "      <td>7.3503</td>\n",
       "      <td>7.3753</td>\n",
       "      <td>0.0045</td>\n",
       "      <td>-0.0250</td>\n",
       "    </tr>\n",
       "    <tr>\n",
       "      <th>2</th>\n",
       "      <td>Story1</td>\n",
       "      <td>3.1405</td>\n",
       "      <td>3.135</td>\n",
       "      <td>7.3345</td>\n",
       "      <td>7.3975</td>\n",
       "      <td>0.0055</td>\n",
       "      <td>-0.0630</td>\n",
       "    </tr>\n",
       "  </tbody>\n",
       "</table>\n",
       "</div>"
      ],
      "text/plain": [
       "    Story    XCCM    XCR    YCCM     YCR    DifX    DifY\n",
       "0  Story3   3.135  3.135  7.4157  7.3571  0.0000  0.0586\n",
       "1  Story2  3.1395  3.135  7.3503  7.3753  0.0045 -0.0250\n",
       "2  Story1  3.1405  3.135  7.3345  7.3975  0.0055 -0.0630"
      ]
     },
     "metadata": {},
     "output_type": "display_data"
    }
   ],
   "source": [
    "display(sismo.tables.CM_CR_table)"
   ]
  },
  {
   "cell_type": "markdown",
   "metadata": {},
   "source": [
    "### 4.7 VERIFICACIÓN DE LA CORTANTE BASAL"
   ]
  },
  {
   "cell_type": "markdown",
   "metadata": {},
   "source": [
    "Esta seccion esta comprendida por la función: *min_shear(self,SapModel,story='Story1')*"
   ]
  },
  {
   "cell_type": "markdown",
   "metadata": {},
   "source": [
    "### FUNCIÓN: min_shear(self,SapModel,story='Story1')\n",
    "\n",
    "La finalidad de esta función es verificar la cortante basal que se obtiene de los casos de carga dinamicos de sismo con los casos de carga estatico y aplicar el criterio de la sección de Fuerza Cortante Minima de la seccion 29.4 de la NTE E0.30. El parametro 'story' es por defecto el 'Story1'."
   ]
  },
  {
   "cell_type": "code",
   "execution_count": 36,
   "metadata": {},
   "outputs": [
    {
     "name": "stdout",
     "output_type": "stream",
     "text": [
      "Help on method min_shear in module lib.sismo_utils:\n",
      "\n",
      "min_shear(SapModel, story='Story1') method of lib.sismo_utils.Sismo_e30 instance\n",
      "\n"
     ]
    }
   ],
   "source": [
    "help(sismo.min_shear)"
   ]
  },
  {
   "cell_type": "code",
   "execution_count": 37,
   "metadata": {},
   "outputs": [],
   "source": [
    "sismo.min_shear(SapModel,story='Story1')"
   ]
  },
  {
   "cell_type": "code",
   "execution_count": 38,
   "metadata": {},
   "outputs": [
    {
     "data": {
      "text/html": [
       "<div>\n",
       "<style scoped>\n",
       "    .dataframe tbody tr th:only-of-type {\n",
       "        vertical-align: middle;\n",
       "    }\n",
       "\n",
       "    .dataframe tbody tr th {\n",
       "        vertical-align: top;\n",
       "    }\n",
       "\n",
       "    .dataframe thead th {\n",
       "        text-align: right;\n",
       "    }\n",
       "</style>\n",
       "<table border=\"1\" class=\"dataframe\">\n",
       "  <thead>\n",
       "    <tr style=\"text-align: right;\">\n",
       "      <th></th>\n",
       "      <th>0</th>\n",
       "      <th>1</th>\n",
       "      <th>2</th>\n",
       "    </tr>\n",
       "  </thead>\n",
       "  <tbody>\n",
       "    <tr>\n",
       "      <th>0</th>\n",
       "      <td></td>\n",
       "      <td>X</td>\n",
       "      <td>Y</td>\n",
       "    </tr>\n",
       "    <tr>\n",
       "      <th>1</th>\n",
       "      <td>V din (Ton)</td>\n",
       "      <td>95.2085</td>\n",
       "      <td>82.2373</td>\n",
       "    </tr>\n",
       "    <tr>\n",
       "      <th>2</th>\n",
       "      <td>V est (Ton)</td>\n",
       "      <td>-109.0364</td>\n",
       "      <td>-93.4545</td>\n",
       "    </tr>\n",
       "    <tr>\n",
       "      <th>3</th>\n",
       "      <td>% min</td>\n",
       "      <td>90</td>\n",
       "      <td>90</td>\n",
       "    </tr>\n",
       "    <tr>\n",
       "      <th>4</th>\n",
       "      <td>%</td>\n",
       "      <td>87.32</td>\n",
       "      <td>88.0</td>\n",
       "    </tr>\n",
       "    <tr>\n",
       "      <th>5</th>\n",
       "      <td>F.E.</td>\n",
       "      <td>1.03</td>\n",
       "      <td>1.02</td>\n",
       "    </tr>\n",
       "  </tbody>\n",
       "</table>\n",
       "</div>"
      ],
      "text/plain": [
       "             0         1        2\n",
       "0                      X        Y\n",
       "1  V din (Ton)   95.2085  82.2373\n",
       "2  V est (Ton) -109.0364 -93.4545\n",
       "3        % min        90       90\n",
       "4            %     87.32     88.0\n",
       "5         F.E.      1.03     1.02"
      ]
     },
     "metadata": {},
     "output_type": "display_data"
    }
   ],
   "source": [
    "display(sismo.tables.shear_table)"
   ]
  },
  {
   "cell_type": "markdown",
   "metadata": {},
   "source": [
    "### 4.8 ANALISIS SISMICO"
   ]
  },
  {
   "cell_type": "markdown",
   "metadata": {},
   "source": [
    "Esta seccion esta comprendida por la función: *analisis_sismo(self, SapModel,base_story='Story1')*"
   ]
  },
  {
   "cell_type": "markdown",
   "metadata": {},
   "source": [
    "### FUNCIÓN: analisis_sismo(self, SapModel,base_story='Story1')\n",
    "\n",
    "La finalidad de esta función es realizar todas la verificaciones del analisis sismico llamando a todas las funciones previamente mencionadas que se relacionan a alguna verificación."
   ]
  },
  {
   "cell_type": "code",
   "execution_count": 40,
   "metadata": {},
   "outputs": [],
   "source": [
    "#sismo.analisis_sismo(SapModel)\n",
    "\n",
    "tablas = sismo.tables\n",
    "#sismo.generate_memoria()"
   ]
  }
 ],
 "metadata": {
  "kernelspec": {
   "display_name": "Python 3 (ipykernel)",
   "language": "python",
   "name": "python3"
  },
  "language_info": {
   "codemirror_mode": {
    "name": "ipython",
    "version": 3
   },
   "file_extension": ".py",
   "mimetype": "text/x-python",
   "name": "python",
   "nbconvert_exporter": "python",
   "pygments_lexer": "ipython3",
   "version": "3.10.9"
  }
 },
 "nbformat": 4,
 "nbformat_minor": 2
}
