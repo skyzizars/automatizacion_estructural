{
 "cells": [
  {
   "cell_type": "markdown",
   "metadata": {},
   "source": [
    "# Análisis Sísmico"
   ]
  },
  {
   "cell_type": "code",
   "execution_count": 1,
   "metadata": {},
   "outputs": [],
   "source": [
    "#Importar las librerías necesarias\n",
    "%load_ext autoreload\n",
    "%autoreload 2\n",
    "import os\n",
    "import sys\n",
    "import numpy\n",
    "sys.path.append(os.getcwd())\n",
    "from lib import etabs_utils as etb\n",
    "from lib import sismo_utils as sis\n",
    "from lib import notebook_utils as ntb\n",
    "import matplotlib.pyplot as plt\n",
    "from ipywidgets import widgets\n",
    "from IPython.display import display\n",
    " "
   ]
  },
  {
   "cell_type": "code",
   "execution_count": 2,
   "metadata": {},
   "outputs": [],
   "source": [
    "_,SapModel = etb.connect_to_etabs()"
   ]
  },
  {
   "cell_type": "code",
   "execution_count": 3,
   "metadata": {},
   "outputs": [],
   "source": [
    "sismo = ntb.Sismo()"
   ]
  },
  {
   "cell_type": "markdown",
   "metadata": {},
   "source": [
    "# Parámetros de Sitio\n",
    "\n",
    "## Zonificación\n",
    "![Factor de Zonifiación](./images/factor_zona.png)"
   ]
  },
  {
   "cell_type": "markdown",
   "metadata": {},
   "source": [
    "## Factor de Suelo\n",
    "![Factor de Suelo](./images/factor_suelo.png)\n"
   ]
  },
  {
   "cell_type": "markdown",
   "metadata": {},
   "source": [
    "## Periodos del suelo\n",
    "![Periodos del Suelo](./images/periodos_suelo.png)"
   ]
  },
  {
   "cell_type": "markdown",
   "metadata": {},
   "source": [
    "## Sistema Estructural\n",
    "![Sistema Estructural](./images/sistemas_estructurales.png)"
   ]
  },
  {
   "cell_type": "markdown",
   "metadata": {},
   "source": [
    "## Factor de Amplificación sísmica\n",
    "![Factor de Amplificacion Sísmica](./images/amplificacion_sismica.png)"
   ]
  },
  {
   "cell_type": "markdown",
   "metadata": {},
   "source": [
    "## Factor de Importancia\n",
    "![Factor de Importancia](./images/factor_importancia.png)"
   ]
  },
  {
   "cell_type": "code",
   "execution_count": 4,
   "metadata": {},
   "outputs": [
    {
     "data": {
      "application/vnd.jupyter.widget-view+json": {
       "model_id": "c5b120cb81f345cdb39c7ae5a1361563",
       "version_major": 2,
       "version_minor": 0
      },
      "text/plain": [
       "VBox(children=(Dropdown(description='Departamento ', options=('LORETO', 'UCAYALI', 'MADRE DE DIOS', 'PUNO', 'A…"
      ]
     },
     "execution_count": 4,
     "metadata": {},
     "output_type": "execute_result"
    }
   ],
   "source": [
    "sismo.ubicacion()"
   ]
  },
  {
   "cell_type": "code",
   "execution_count": 5,
   "metadata": {},
   "outputs": [
    {
     "data": {
      "application/vnd.jupyter.widget-view+json": {
       "model_id": "b29698d574f54580ae7058e804fa3e0f",
       "version_major": 2,
       "version_minor": 0
      },
      "text/plain": [
       "VBox(children=(Dropdown(description='Factor Zona', index=3, options=(1, 2, 3, 4), style=DescriptionStyle(descr…"
      ]
     },
     "metadata": {},
     "output_type": "display_data"
    }
   ],
   "source": [
    "sismo.parametros_e30()"
   ]
  },
  {
   "cell_type": "markdown",
   "metadata": {},
   "source": [
    "# Irregularidades"
   ]
  },
  {
   "cell_type": "code",
   "execution_count": 6,
   "metadata": {},
   "outputs": [
    {
     "data": {
      "application/vnd.jupyter.widget-view+json": {
       "model_id": "d52a69d6fda94af49676890a66592e90",
       "version_major": 2,
       "version_minor": 0
      },
      "text/plain": [
       "HBox(children=(VBox(children=(HTML(value='<b>Irregularidad en Altura</b>'), Checkbox(value=False, description=…"
      ]
     },
     "execution_count": 6,
     "metadata": {},
     "output_type": "execute_result"
    }
   ],
   "source": [
    "sismo.irregularidades_e30()"
   ]
  },
  {
   "cell_type": "markdown",
   "metadata": {},
   "source": [
    "# Parámetros Sísmicos"
   ]
  },
  {
   "cell_type": "code",
   "execution_count": 7,
   "metadata": {},
   "outputs": [
    {
     "name": "stdout",
     "output_type": "stream",
     "text": [
      "\n",
      "\u001b[1m Parámetros de sitio:\u001b[0m\n",
      "Factor de zona: \n",
      "    Z=0.45\n",
      "Factor de Importancia: \n",
      "    U=1.00\n",
      "Factor de Suelo: \n",
      "    S=1.05\n",
      "Periodos del Suelo: \n",
      "    Tp=0.60\n",
      "    Tl=2.00\n",
      "Factor Básico de Reducción:\n",
      "    Rox=7.00\n",
      "    Roy=7.00\n",
      "Irregularidad en planta:\n",
      "    Ip=1.00\n",
      "Irregularidad en altura:\n",
      "    Ia=1.00\n",
      "Factor de Reducción:\n",
      "    Rx=7.00\n",
      "    Ry=7.00\n",
      "\n"
     ]
    }
   ],
   "source": [
    "sismo.show_params()"
   ]
  },
  {
   "cell_type": "markdown",
   "metadata": {},
   "source": [
    "# Cargas Sísmicas"
   ]
  },
  {
   "cell_type": "code",
   "execution_count": 8,
   "metadata": {},
   "outputs": [
    {
     "data": {
      "application/vnd.jupyter.widget-view+json": {
       "model_id": "8b4639aca3264517bc1fa57302ae9e2c",
       "version_major": 2,
       "version_minor": 0
      },
      "text/plain": [
       "HBox(children=(VBox(children=(HTML(value='<b>Dirección X</b>'), Dropdown(description='Sismo Estatico en X', in…"
      ]
     },
     "execution_count": 8,
     "metadata": {},
     "output_type": "execute_result"
    }
   ],
   "source": [
    "sismo.select_loads(SapModel)"
   ]
  },
  {
   "cell_type": "markdown",
   "metadata": {},
   "source": [
    "# Selección del Piso Base"
   ]
  },
  {
   "cell_type": "code",
   "execution_count": 9,
   "metadata": {},
   "outputs": [
    {
     "data": {
      "application/vnd.jupyter.widget-view+json": {
       "model_id": "d908fcb2c16342b78d72ed63e4bce192",
       "version_major": 2,
       "version_minor": 0
      },
      "text/plain": [
       "Dropdown(description='Piso Base', options=('NT', 'Story1', 'Story2', 'Story3', 'Story4', 'Story5', 'Story6', '…"
      ]
     },
     "execution_count": 9,
     "metadata": {},
     "output_type": "execute_result"
    }
   ],
   "source": [
    "sismo.select_base_story(SapModel)"
   ]
  },
  {
   "cell_type": "markdown",
   "metadata": {},
   "source": [
    "# Periodos Modales"
   ]
  },
  {
   "cell_type": "code",
   "execution_count": 10,
   "metadata": {},
   "outputs": [
    {
     "name": "stdout",
     "output_type": "stream",
     "text": [
      "\n",
      "Análisis Modal:\n",
      "Masa Participativa X: 0.95\n",
      "Masa Participativa Y: 0.86\n",
      "---Aumentar Grados de Libertad 0.86 < 0.9\n",
      "Periodo y Masa Participativa X: Tx=0.644, Ux=0.691\n",
      "Periodo y Masa Participativa Y: Ty=0.218, Uy=0.654\n"
     ]
    },
    {
     "data": {
      "text/html": [
       "<div>\n",
       "<style scoped>\n",
       "    .dataframe tbody tr th:only-of-type {\n",
       "        vertical-align: middle;\n",
       "    }\n",
       "\n",
       "    .dataframe tbody tr th {\n",
       "        vertical-align: top;\n",
       "    }\n",
       "\n",
       "    .dataframe thead th {\n",
       "        text-align: right;\n",
       "    }\n",
       "</style>\n",
       "<table border=\"1\" class=\"dataframe\">\n",
       "  <thead>\n",
       "    <tr style=\"text-align: right;\">\n",
       "      <th></th>\n",
       "      <th>Mode</th>\n",
       "      <th>Period</th>\n",
       "      <th>UX</th>\n",
       "      <th>UY</th>\n",
       "      <th>RZ</th>\n",
       "      <th>SumUX</th>\n",
       "      <th>SumUY</th>\n",
       "      <th>SumRZ</th>\n",
       "    </tr>\n",
       "  </thead>\n",
       "  <tbody>\n",
       "    <tr>\n",
       "      <th>0</th>\n",
       "      <td>1</td>\n",
       "      <td>0.644</td>\n",
       "      <td>0.690600</td>\n",
       "      <td>1.000000e-03</td>\n",
       "      <td>0.0111</td>\n",
       "      <td>0.6906</td>\n",
       "      <td>0.001</td>\n",
       "      <td>0.0111</td>\n",
       "    </tr>\n",
       "    <tr>\n",
       "      <th>1</th>\n",
       "      <td>2</td>\n",
       "      <td>0.451</td>\n",
       "      <td>0.015600</td>\n",
       "      <td>1.720000e-02</td>\n",
       "      <td>0.6635</td>\n",
       "      <td>0.7062</td>\n",
       "      <td>0.0182</td>\n",
       "      <td>0.6746</td>\n",
       "    </tr>\n",
       "    <tr>\n",
       "      <th>2</th>\n",
       "      <td>3</td>\n",
       "      <td>0.218</td>\n",
       "      <td>0.000300</td>\n",
       "      <td>6.536000e-01</td>\n",
       "      <td>0.018</td>\n",
       "      <td>0.7065</td>\n",
       "      <td>0.6719</td>\n",
       "      <td>0.6926</td>\n",
       "    </tr>\n",
       "    <tr>\n",
       "      <th>3</th>\n",
       "      <td>4</td>\n",
       "      <td>0.176</td>\n",
       "      <td>0.131200</td>\n",
       "      <td>6.000000e-04</td>\n",
       "      <td>0.0022</td>\n",
       "      <td>0.8377</td>\n",
       "      <td>0.6725</td>\n",
       "      <td>0.6948</td>\n",
       "    </tr>\n",
       "    <tr>\n",
       "      <th>4</th>\n",
       "      <td>5</td>\n",
       "      <td>0.13</td>\n",
       "      <td>0.001200</td>\n",
       "      <td>1.200000e-03</td>\n",
       "      <td>0.0169</td>\n",
       "      <td>0.8388</td>\n",
       "      <td>0.6737</td>\n",
       "      <td>0.7117</td>\n",
       "    </tr>\n",
       "    <tr>\n",
       "      <th>5</th>\n",
       "      <td>6</td>\n",
       "      <td>0.122</td>\n",
       "      <td>0.002200</td>\n",
       "      <td>1.300000e-03</td>\n",
       "      <td>0.1</td>\n",
       "      <td>0.841</td>\n",
       "      <td>0.675</td>\n",
       "      <td>0.8116</td>\n",
       "    </tr>\n",
       "    <tr>\n",
       "      <th>6</th>\n",
       "      <td>7</td>\n",
       "      <td>0.1</td>\n",
       "      <td>0.000400</td>\n",
       "      <td>2.900000e-03</td>\n",
       "      <td>0.0299</td>\n",
       "      <td>0.8414</td>\n",
       "      <td>0.6779</td>\n",
       "      <td>0.8415</td>\n",
       "    </tr>\n",
       "    <tr>\n",
       "      <th>7</th>\n",
       "      <td>8</td>\n",
       "      <td>0.087</td>\n",
       "      <td>0.019500</td>\n",
       "      <td>1.000000e-04</td>\n",
       "      <td>0.0068</td>\n",
       "      <td>0.8609</td>\n",
       "      <td>0.678</td>\n",
       "      <td>0.8483</td>\n",
       "    </tr>\n",
       "    <tr>\n",
       "      <th>8</th>\n",
       "      <td>9</td>\n",
       "      <td>0.076</td>\n",
       "      <td>0.033600</td>\n",
       "      <td>6.606000e-06</td>\n",
       "      <td>3.177E-05</td>\n",
       "      <td>0.8945</td>\n",
       "      <td>0.678</td>\n",
       "      <td>0.8483</td>\n",
       "    </tr>\n",
       "    <tr>\n",
       "      <th>9</th>\n",
       "      <td>10</td>\n",
       "      <td>0.064</td>\n",
       "      <td>0.000800</td>\n",
       "      <td>2.184000e-05</td>\n",
       "      <td>0.0019</td>\n",
       "      <td>0.8953</td>\n",
       "      <td>0.678</td>\n",
       "      <td>0.8502</td>\n",
       "    </tr>\n",
       "    <tr>\n",
       "      <th>10</th>\n",
       "      <td>11</td>\n",
       "      <td>0.054</td>\n",
       "      <td>0.000300</td>\n",
       "      <td>5.000000e-04</td>\n",
       "      <td>0.0488</td>\n",
       "      <td>0.8957</td>\n",
       "      <td>0.6785</td>\n",
       "      <td>0.899</td>\n",
       "    </tr>\n",
       "    <tr>\n",
       "      <th>11</th>\n",
       "      <td>12</td>\n",
       "      <td>0.05</td>\n",
       "      <td>0.001000</td>\n",
       "      <td>5.610000e-02</td>\n",
       "      <td>0.0011</td>\n",
       "      <td>0.8967</td>\n",
       "      <td>0.7346</td>\n",
       "      <td>0.9001</td>\n",
       "    </tr>\n",
       "    <tr>\n",
       "      <th>12</th>\n",
       "      <td>13</td>\n",
       "      <td>0.05</td>\n",
       "      <td>0.001200</td>\n",
       "      <td>1.230000e-01</td>\n",
       "      <td>0.0006</td>\n",
       "      <td>0.8978</td>\n",
       "      <td>0.8576</td>\n",
       "      <td>0.9007</td>\n",
       "    </tr>\n",
       "    <tr>\n",
       "      <th>13</th>\n",
       "      <td>14</td>\n",
       "      <td>0.049</td>\n",
       "      <td>0.007500</td>\n",
       "      <td>1.000000e-04</td>\n",
       "      <td>0.0004</td>\n",
       "      <td>0.9053</td>\n",
       "      <td>0.8578</td>\n",
       "      <td>0.9011</td>\n",
       "    </tr>\n",
       "    <tr>\n",
       "      <th>14</th>\n",
       "      <td>15</td>\n",
       "      <td>0.046</td>\n",
       "      <td>0.018700</td>\n",
       "      <td>3.659000e-05</td>\n",
       "      <td>0.0018</td>\n",
       "      <td>0.9241</td>\n",
       "      <td>0.8578</td>\n",
       "      <td>0.9029</td>\n",
       "    </tr>\n",
       "    <tr>\n",
       "      <th>15</th>\n",
       "      <td>16</td>\n",
       "      <td>0.042</td>\n",
       "      <td>0.000009</td>\n",
       "      <td>6.875000e-07</td>\n",
       "      <td>0.0002</td>\n",
       "      <td>0.9241</td>\n",
       "      <td>0.8578</td>\n",
       "      <td>0.9031</td>\n",
       "    </tr>\n",
       "    <tr>\n",
       "      <th>16</th>\n",
       "      <td>17</td>\n",
       "      <td>0.037</td>\n",
       "      <td>0.000045</td>\n",
       "      <td>1.239000e-06</td>\n",
       "      <td>0.0004</td>\n",
       "      <td>0.9241</td>\n",
       "      <td>0.8578</td>\n",
       "      <td>0.9035</td>\n",
       "    </tr>\n",
       "    <tr>\n",
       "      <th>17</th>\n",
       "      <td>18</td>\n",
       "      <td>0.035</td>\n",
       "      <td>0.000500</td>\n",
       "      <td>1.000000e-04</td>\n",
       "      <td>0.0204</td>\n",
       "      <td>0.9246</td>\n",
       "      <td>0.8579</td>\n",
       "      <td>0.9239</td>\n",
       "    </tr>\n",
       "    <tr>\n",
       "      <th>18</th>\n",
       "      <td>19</td>\n",
       "      <td>0.034</td>\n",
       "      <td>0.000700</td>\n",
       "      <td>4.201000e-05</td>\n",
       "      <td>0.002</td>\n",
       "      <td>0.9253</td>\n",
       "      <td>0.858</td>\n",
       "      <td>0.9259</td>\n",
       "    </tr>\n",
       "    <tr>\n",
       "      <th>19</th>\n",
       "      <td>20</td>\n",
       "      <td>0.033</td>\n",
       "      <td>0.005900</td>\n",
       "      <td>2.000000e-04</td>\n",
       "      <td>0.0007</td>\n",
       "      <td>0.9312</td>\n",
       "      <td>0.8581</td>\n",
       "      <td>0.9266</td>\n",
       "    </tr>\n",
       "    <tr>\n",
       "      <th>20</th>\n",
       "      <td>21</td>\n",
       "      <td>0.032</td>\n",
       "      <td>0.003600</td>\n",
       "      <td>7.295000e-07</td>\n",
       "      <td>2.517E-05</td>\n",
       "      <td>0.9348</td>\n",
       "      <td>0.8581</td>\n",
       "      <td>0.9266</td>\n",
       "    </tr>\n",
       "    <tr>\n",
       "      <th>21</th>\n",
       "      <td>22</td>\n",
       "      <td>0.031</td>\n",
       "      <td>0.006200</td>\n",
       "      <td>1.000000e-04</td>\n",
       "      <td>0.0022</td>\n",
       "      <td>0.941</td>\n",
       "      <td>0.8582</td>\n",
       "      <td>0.9288</td>\n",
       "    </tr>\n",
       "    <tr>\n",
       "      <th>22</th>\n",
       "      <td>23</td>\n",
       "      <td>0.026</td>\n",
       "      <td>0.003900</td>\n",
       "      <td>1.899000e-05</td>\n",
       "      <td>0.0082</td>\n",
       "      <td>0.9449</td>\n",
       "      <td>0.8582</td>\n",
       "      <td>0.9369</td>\n",
       "    </tr>\n",
       "    <tr>\n",
       "      <th>23</th>\n",
       "      <td>24</td>\n",
       "      <td>0.024</td>\n",
       "      <td>0.006300</td>\n",
       "      <td>4.295000e-05</td>\n",
       "      <td>0.0001</td>\n",
       "      <td>0.9513</td>\n",
       "      <td>0.8583</td>\n",
       "      <td>0.9371</td>\n",
       "    </tr>\n",
       "  </tbody>\n",
       "</table>\n",
       "</div>"
      ],
      "text/plain": [
       "   Mode Period        UX            UY         RZ   SumUX   SumUY   SumRZ\n",
       "0     1  0.644  0.690600  1.000000e-03     0.0111  0.6906   0.001  0.0111\n",
       "1     2  0.451  0.015600  1.720000e-02     0.6635  0.7062  0.0182  0.6746\n",
       "2     3  0.218  0.000300  6.536000e-01      0.018  0.7065  0.6719  0.6926\n",
       "3     4  0.176  0.131200  6.000000e-04     0.0022  0.8377  0.6725  0.6948\n",
       "4     5   0.13  0.001200  1.200000e-03     0.0169  0.8388  0.6737  0.7117\n",
       "5     6  0.122  0.002200  1.300000e-03        0.1   0.841   0.675  0.8116\n",
       "6     7    0.1  0.000400  2.900000e-03     0.0299  0.8414  0.6779  0.8415\n",
       "7     8  0.087  0.019500  1.000000e-04     0.0068  0.8609   0.678  0.8483\n",
       "8     9  0.076  0.033600  6.606000e-06  3.177E-05  0.8945   0.678  0.8483\n",
       "9    10  0.064  0.000800  2.184000e-05     0.0019  0.8953   0.678  0.8502\n",
       "10   11  0.054  0.000300  5.000000e-04     0.0488  0.8957  0.6785   0.899\n",
       "11   12   0.05  0.001000  5.610000e-02     0.0011  0.8967  0.7346  0.9001\n",
       "12   13   0.05  0.001200  1.230000e-01     0.0006  0.8978  0.8576  0.9007\n",
       "13   14  0.049  0.007500  1.000000e-04     0.0004  0.9053  0.8578  0.9011\n",
       "14   15  0.046  0.018700  3.659000e-05     0.0018  0.9241  0.8578  0.9029\n",
       "15   16  0.042  0.000009  6.875000e-07     0.0002  0.9241  0.8578  0.9031\n",
       "16   17  0.037  0.000045  1.239000e-06     0.0004  0.9241  0.8578  0.9035\n",
       "17   18  0.035  0.000500  1.000000e-04     0.0204  0.9246  0.8579  0.9239\n",
       "18   19  0.034  0.000700  4.201000e-05      0.002  0.9253   0.858  0.9259\n",
       "19   20  0.033  0.005900  2.000000e-04     0.0007  0.9312  0.8581  0.9266\n",
       "20   21  0.032  0.003600  7.295000e-07  2.517E-05  0.9348  0.8581  0.9266\n",
       "21   22  0.031  0.006200  1.000000e-04     0.0022   0.941  0.8582  0.9288\n",
       "22   23  0.026  0.003900  1.899000e-05     0.0082  0.9449  0.8582  0.9369\n",
       "23   24  0.024  0.006300  4.295000e-05     0.0001  0.9513  0.8583  0.9371"
      ]
     },
     "metadata": {},
     "output_type": "display_data"
    }
   ],
   "source": [
    "sismo.ana_modal(SapModel,report=True)"
   ]
  },
  {
   "cell_type": "markdown",
   "metadata": {},
   "source": [
    "# Análisis Estático"
   ]
  },
  {
   "cell_type": "code",
   "execution_count": 11,
   "metadata": {},
   "outputs": [
    {
     "name": "stdout",
     "output_type": "stream",
     "text": [
      "Factor de Reduccion con Irregularidades en X: R=7.0\n",
      "Factor de Reduccion con Irregularidades en Y: R=7.0\n",
      "C en X: 2.33\n",
      "C en Y: 2.50\n",
      "\n",
      "Coeficiente de sismo estático X: 0.157\n",
      "Coeficiente de sismo estático Y: 0.169\n",
      "Exponente de altura X: 1.07\n",
      "Exponente de altura Y: 1.00\n",
      "Fuerza Cortante en X: 110.05\n",
      "Fuerza Cortante en Y: 118.12\n"
     ]
    },
    {
     "data": {
      "text/html": [
       "<div>\n",
       "<style scoped>\n",
       "    .dataframe tbody tr th:only-of-type {\n",
       "        vertical-align: middle;\n",
       "    }\n",
       "\n",
       "    .dataframe tbody tr th {\n",
       "        vertical-align: top;\n",
       "    }\n",
       "\n",
       "    .dataframe thead th {\n",
       "        text-align: right;\n",
       "    }\n",
       "</style>\n",
       "<table border=\"1\" class=\"dataframe\">\n",
       "  <thead>\n",
       "    <tr style=\"text-align: right;\">\n",
       "      <th></th>\n",
       "      <th>Story</th>\n",
       "      <th>Weight</th>\n",
       "      <th>Height</th>\n",
       "      <th>H^kx</th>\n",
       "      <th>H^ky</th>\n",
       "      <th>PxHx</th>\n",
       "      <th>PxHy</th>\n",
       "      <th>ax</th>\n",
       "      <th>ay</th>\n",
       "      <th>vx</th>\n",
       "      <th>vy</th>\n",
       "    </tr>\n",
       "  </thead>\n",
       "  <tbody>\n",
       "    <tr>\n",
       "      <th>0</th>\n",
       "      <td>Story8</td>\n",
       "      <td>65.394</td>\n",
       "      <td>20.75</td>\n",
       "      <td>25.81</td>\n",
       "      <td>20.75</td>\n",
       "      <td>1688.028</td>\n",
       "      <td>1356.921</td>\n",
       "      <td>0.177</td>\n",
       "      <td>0.213</td>\n",
       "      <td>19.455</td>\n",
       "      <td>25.143</td>\n",
       "    </tr>\n",
       "    <tr>\n",
       "      <th>1</th>\n",
       "      <td>Story7</td>\n",
       "      <td>85.837</td>\n",
       "      <td>18.25</td>\n",
       "      <td>22.49</td>\n",
       "      <td>18.25</td>\n",
       "      <td>1930.858</td>\n",
       "      <td>1566.533</td>\n",
       "      <td>0.202</td>\n",
       "      <td>0.243</td>\n",
       "      <td>22.253</td>\n",
       "      <td>28.760</td>\n",
       "    </tr>\n",
       "    <tr>\n",
       "      <th>2</th>\n",
       "      <td>Story6</td>\n",
       "      <td>85.676</td>\n",
       "      <td>15.75</td>\n",
       "      <td>19.21</td>\n",
       "      <td>15.75</td>\n",
       "      <td>1645.669</td>\n",
       "      <td>1349.392</td>\n",
       "      <td>0.172</td>\n",
       "      <td>0.208</td>\n",
       "      <td>18.967</td>\n",
       "      <td>24.512</td>\n",
       "    </tr>\n",
       "    <tr>\n",
       "      <th>3</th>\n",
       "      <td>Story5</td>\n",
       "      <td>85.695</td>\n",
       "      <td>13.25</td>\n",
       "      <td>15.96</td>\n",
       "      <td>13.25</td>\n",
       "      <td>1367.636</td>\n",
       "      <td>1135.458</td>\n",
       "      <td>0.143</td>\n",
       "      <td>0.172</td>\n",
       "      <td>15.762</td>\n",
       "      <td>20.371</td>\n",
       "    </tr>\n",
       "    <tr>\n",
       "      <th>4</th>\n",
       "      <td>Story4</td>\n",
       "      <td>89.857</td>\n",
       "      <td>10.75</td>\n",
       "      <td>12.75</td>\n",
       "      <td>10.75</td>\n",
       "      <td>1146.093</td>\n",
       "      <td>965.958</td>\n",
       "      <td>0.120</td>\n",
       "      <td>0.145</td>\n",
       "      <td>13.209</td>\n",
       "      <td>17.071</td>\n",
       "    </tr>\n",
       "    <tr>\n",
       "      <th>5</th>\n",
       "      <td>Story3</td>\n",
       "      <td>89.857</td>\n",
       "      <td>8.25</td>\n",
       "      <td>9.60</td>\n",
       "      <td>8.25</td>\n",
       "      <td>862.956</td>\n",
       "      <td>741.317</td>\n",
       "      <td>0.090</td>\n",
       "      <td>0.109</td>\n",
       "      <td>9.946</td>\n",
       "      <td>12.854</td>\n",
       "    </tr>\n",
       "    <tr>\n",
       "      <th>6</th>\n",
       "      <td>Story2</td>\n",
       "      <td>89.857</td>\n",
       "      <td>5.75</td>\n",
       "      <td>6.52</td>\n",
       "      <td>5.75</td>\n",
       "      <td>586.022</td>\n",
       "      <td>516.675</td>\n",
       "      <td>0.061</td>\n",
       "      <td>0.074</td>\n",
       "      <td>6.754</td>\n",
       "      <td>8.729</td>\n",
       "    </tr>\n",
       "    <tr>\n",
       "      <th>7</th>\n",
       "      <td>Story1</td>\n",
       "      <td>72.894</td>\n",
       "      <td>3.25</td>\n",
       "      <td>3.54</td>\n",
       "      <td>3.25</td>\n",
       "      <td>257.888</td>\n",
       "      <td>236.906</td>\n",
       "      <td>0.027</td>\n",
       "      <td>0.033</td>\n",
       "      <td>2.972</td>\n",
       "      <td>3.841</td>\n",
       "    </tr>\n",
       "    <tr>\n",
       "      <th>8</th>\n",
       "      <td>NT</td>\n",
       "      <td>34.911</td>\n",
       "      <td>1.75</td>\n",
       "      <td>1.82</td>\n",
       "      <td>1.75</td>\n",
       "      <td>63.606</td>\n",
       "      <td>61.094</td>\n",
       "      <td>0.007</td>\n",
       "      <td>0.008</td>\n",
       "      <td>0.733</td>\n",
       "      <td>0.947</td>\n",
       "    </tr>\n",
       "  </tbody>\n",
       "</table>\n",
       "</div>"
      ],
      "text/plain": [
       "    Story  Weight  Height   H^kx   H^ky      PxHx      PxHy     ax     ay  \\\n",
       "0  Story8  65.394   20.75  25.81  20.75  1688.028  1356.921  0.177  0.213   \n",
       "1  Story7  85.837   18.25  22.49  18.25  1930.858  1566.533  0.202  0.243   \n",
       "2  Story6  85.676   15.75  19.21  15.75  1645.669  1349.392  0.172  0.208   \n",
       "3  Story5  85.695   13.25  15.96  13.25  1367.636  1135.458  0.143  0.172   \n",
       "4  Story4  89.857   10.75  12.75  10.75  1146.093   965.958  0.120  0.145   \n",
       "5  Story3  89.857    8.25   9.60   8.25   862.956   741.317  0.090  0.109   \n",
       "6  Story2  89.857    5.75   6.52   5.75   586.022   516.675  0.061  0.074   \n",
       "7  Story1  72.894    3.25   3.54   3.25   257.888   236.906  0.027  0.033   \n",
       "8      NT  34.911    1.75   1.82   1.75    63.606    61.094  0.007  0.008   \n",
       "\n",
       "       vx      vy  \n",
       "0  19.455  25.143  \n",
       "1  22.253  28.760  \n",
       "2  18.967  24.512  \n",
       "3  15.762  20.371  \n",
       "4  13.209  17.071  \n",
       "5   9.946  12.854  \n",
       "6   6.754   8.729  \n",
       "7   2.972   3.841  \n",
       "8   0.733   0.947  "
      ]
     },
     "metadata": {},
     "output_type": "display_data"
    }
   ],
   "source": [
    "sismo.sismo_estatico(SapModel,report=True) "
   ]
  },
  {
   "cell_type": "markdown",
   "metadata": {},
   "source": [
    "# Espectro dinámico"
   ]
  },
  {
   "cell_type": "code",
   "execution_count": 12,
   "metadata": {},
   "outputs": [
    {
     "data": {
      "image/png": "[encoded data removed]",
      "text/plain": [
       "<Figure size 432x288 with 1 Axes>"
      ]
     },
     "metadata": {
      "needs_background": "light"
     },
     "output_type": "display_data"
    }
   ],
   "source": [
    "sismo.dinamic_spectrum(report=True)"
   ]
  },
  {
   "cell_type": "markdown",
   "metadata": {},
   "source": [
    "# Fuerza Cortante Mínima"
   ]
  },
  {
   "cell_type": "code",
   "execution_count": 13,
   "metadata": {},
   "outputs": [
    {
     "data": {
      "text/html": [
       "<style type=\"text/css\">\n",
       "</style>\n",
       "<table id=\"T_4296f\">\n",
       "  <thead>\n",
       "  </thead>\n",
       "  <tbody>\n",
       "    <tr>\n",
       "      <td id=\"T_4296f_row0_col0\" class=\"data row0 col0\" ></td>\n",
       "      <td id=\"T_4296f_row0_col1\" class=\"data row0 col1\" >X</td>\n",
       "      <td id=\"T_4296f_row0_col2\" class=\"data row0 col2\" >Y</td>\n",
       "    </tr>\n",
       "    <tr>\n",
       "      <td id=\"T_4296f_row1_col0\" class=\"data row1 col0\" >V din (Ton)</td>\n",
       "      <td id=\"T_4296f_row1_col1\" class=\"data row1 col1\" >50.889600</td>\n",
       "      <td id=\"T_4296f_row1_col2\" class=\"data row1 col2\" >65.187100</td>\n",
       "    </tr>\n",
       "    <tr>\n",
       "      <td id=\"T_4296f_row2_col0\" class=\"data row2 col0\" >V est (Ton)</td>\n",
       "      <td id=\"T_4296f_row2_col1\" class=\"data row2 col1\" >-61.300700</td>\n",
       "      <td id=\"T_4296f_row2_col2\" class=\"data row2 col2\" >-73.041000</td>\n",
       "    </tr>\n",
       "    <tr>\n",
       "      <td id=\"T_4296f_row3_col0\" class=\"data row3 col0\" >% min</td>\n",
       "      <td id=\"T_4296f_row3_col1\" class=\"data row3 col1\" >80</td>\n",
       "      <td id=\"T_4296f_row3_col2\" class=\"data row3 col2\" >80</td>\n",
       "    </tr>\n",
       "    <tr>\n",
       "      <td id=\"T_4296f_row4_col0\" class=\"data row4 col0\" >%</td>\n",
       "      <td id=\"T_4296f_row4_col1\" class=\"data row4 col1\" >83.020000</td>\n",
       "      <td id=\"T_4296f_row4_col2\" class=\"data row4 col2\" >89.250000</td>\n",
       "    </tr>\n",
       "    <tr>\n",
       "      <td id=\"T_4296f_row5_col0\" class=\"data row5 col0\" >F.E.</td>\n",
       "      <td id=\"T_4296f_row5_col1\" class=\"data row5 col1\" >1</td>\n",
       "      <td id=\"T_4296f_row5_col2\" class=\"data row5 col2\" >1</td>\n",
       "    </tr>\n",
       "  </tbody>\n",
       "</table>\n"
      ],
      "text/plain": [
       "<pandas.io.formats.style.Styler at 0x27d2c5234c0>"
      ]
     },
     "metadata": {},
     "output_type": "display_data"
    }
   ],
   "source": [
    "sismo.min_shear(SapModel,story=sismo.base_story,report=True)"
   ]
  },
  {
   "cell_type": "markdown",
   "metadata": {},
   "source": [
    "# Discotinuidad por diafragma"
   ]
  },
  {
   "cell_type": "code",
   "execution_count": 14,
   "metadata": {},
   "outputs": [
    {
     "data": {
      "application/vnd.jupyter.widget-view+json": {
       "model_id": "77d1b960c00f4fdba5e5138b5e8660eb",
       "version_major": 2,
       "version_minor": 0
      },
      "text/plain": [
       "VBox(children=(Checkbox(value=False, description='cambios de sección', style=CheckboxStyle(description_width='…"
      ]
     },
     "metadata": {},
     "output_type": "display_data"
    }
   ],
   "source": [
    "sismo.discontinuidad_diafragma()"
   ]
  },
  {
   "cell_type": "markdown",
   "metadata": {},
   "source": [
    "# Esquinas Entrantes"
   ]
  },
  {
   "cell_type": "code",
   "execution_count": 15,
   "metadata": {},
   "outputs": [
    {
     "data": {
      "application/vnd.jupyter.widget-view+json": {
       "model_id": "1190bd01cbd54b9b94ae66a613cc26eb",
       "version_major": 2,
       "version_minor": 0
      },
      "text/plain": [
       "VBox(children=(HTML(value='<b>Cambios de Sección:</b>'), Text(value='0.45', description='Esquina entrante X (m…"
      ]
     },
     "metadata": {},
     "output_type": "display_data"
    }
   ],
   "source": [
    "sismo.esquinas_entrantes()"
   ]
  },
  {
   "cell_type": "markdown",
   "metadata": {},
   "source": [
    "## Revisión por Piso Blando"
   ]
  },
  {
   "cell_type": "code",
   "execution_count": 16,
   "metadata": {},
   "outputs": [
    {
     "data": {
      "application/vnd.jupyter.widget-view+json": {
       "model_id": "1221cb95b9c24f7ca2b08360f49ef1af",
       "version_major": 2,
       "version_minor": 0
      },
      "text/plain": [
       "Dropdown(description='Filtro', options=('SDx Max', 'SDy Max', 'Sy Max', 'Sx Min', 'Sx Max', 'Sy Min', 'sin fil…"
      ]
     },
     "metadata": {},
     "output_type": "display_data"
    },
    {
     "data": {
      "text/html": [
       "<div>\n",
       "<style scoped>\n",
       "    .dataframe tbody tr th:only-of-type {\n",
       "        vertical-align: middle;\n",
       "    }\n",
       "\n",
       "    .dataframe tbody tr th {\n",
       "        vertical-align: top;\n",
       "    }\n",
       "\n",
       "    .dataframe thead th {\n",
       "        text-align: right;\n",
       "    }\n",
       "</style>\n",
       "<table border=\"1\" class=\"dataframe\">\n",
       "  <thead>\n",
       "    <tr style=\"text-align: right;\">\n",
       "      <th></th>\n",
       "      <th>Story</th>\n",
       "      <th>OutputCase</th>\n",
       "      <th>UX</th>\n",
       "      <th>UY</th>\n",
       "      <th>ΔUX</th>\n",
       "      <th>ΔUY</th>\n",
       "      <th>VX</th>\n",
       "      <th>VY</th>\n",
       "      <th>lat_rig(k)</th>\n",
       "      <th>0.7_prev_k</th>\n",
       "      <th>0.8k_prom</th>\n",
       "      <th>is_reg</th>\n",
       "    </tr>\n",
       "  </thead>\n",
       "  <tbody>\n",
       "    <tr>\n",
       "      <th>0</th>\n",
       "      <td>Story8</td>\n",
       "      <td>SDx Max</td>\n",
       "      <td>0.023583</td>\n",
       "      <td>0.000879</td>\n",
       "      <td>0.002284</td>\n",
       "      <td>0.000112</td>\n",
       "      <td>16.9984</td>\n",
       "      <td>0.844</td>\n",
       "      <td>7535.714286</td>\n",
       "      <td>0.000000</td>\n",
       "      <td>0.000000</td>\n",
       "      <td>Regular</td>\n",
       "    </tr>\n",
       "    <tr>\n",
       "      <th>1</th>\n",
       "      <td>Story7</td>\n",
       "      <td>SDx Max</td>\n",
       "      <td>0.021299</td>\n",
       "      <td>0.000767</td>\n",
       "      <td>0.002981</td>\n",
       "      <td>0.000108</td>\n",
       "      <td>34.801</td>\n",
       "      <td>1.7267</td>\n",
       "      <td>15987.962963</td>\n",
       "      <td>5275.000000</td>\n",
       "      <td>0.000000</td>\n",
       "      <td>Regular</td>\n",
       "    </tr>\n",
       "    <tr>\n",
       "      <th>2</th>\n",
       "      <td>Story6</td>\n",
       "      <td>SDx Max</td>\n",
       "      <td>0.018318</td>\n",
       "      <td>0.000659</td>\n",
       "      <td>0.003436</td>\n",
       "      <td>0.000128</td>\n",
       "      <td>49.2654</td>\n",
       "      <td>2.437</td>\n",
       "      <td>19039.062500</td>\n",
       "      <td>11191.574074</td>\n",
       "      <td>0.000000</td>\n",
       "      <td>Regular</td>\n",
       "    </tr>\n",
       "    <tr>\n",
       "      <th>3</th>\n",
       "      <td>Story5</td>\n",
       "      <td>SDx Max</td>\n",
       "      <td>0.014882</td>\n",
       "      <td>0.000531</td>\n",
       "      <td>0.003817</td>\n",
       "      <td>0.000142</td>\n",
       "      <td>60.929</td>\n",
       "      <td>3.0096</td>\n",
       "      <td>21194.366197</td>\n",
       "      <td>13327.343750</td>\n",
       "      <td>11350.063933</td>\n",
       "      <td>Regular</td>\n",
       "    </tr>\n",
       "    <tr>\n",
       "      <th>4</th>\n",
       "      <td>Story4</td>\n",
       "      <td>SDx Max</td>\n",
       "      <td>0.011065</td>\n",
       "      <td>0.000389</td>\n",
       "      <td>0.003818</td>\n",
       "      <td>0.000140</td>\n",
       "      <td>70.4907</td>\n",
       "      <td>3.4785</td>\n",
       "      <td>24846.428571</td>\n",
       "      <td>14836.056338</td>\n",
       "      <td>14992.371109</td>\n",
       "      <td>Regular</td>\n",
       "    </tr>\n",
       "    <tr>\n",
       "      <th>5</th>\n",
       "      <td>Story3</td>\n",
       "      <td>SDx Max</td>\n",
       "      <td>0.007247</td>\n",
       "      <td>0.000249</td>\n",
       "      <td>0.003535</td>\n",
       "      <td>0.000127</td>\n",
       "      <td>77.4059</td>\n",
       "      <td>3.8097</td>\n",
       "      <td>29997.637795</td>\n",
       "      <td>17392.500000</td>\n",
       "      <td>17354.628605</td>\n",
       "      <td>Regular</td>\n",
       "    </tr>\n",
       "    <tr>\n",
       "      <th>6</th>\n",
       "      <td>Story2</td>\n",
       "      <td>SDx Max</td>\n",
       "      <td>0.003712</td>\n",
       "      <td>0.000122</td>\n",
       "      <td>0.002678</td>\n",
       "      <td>0.000099</td>\n",
       "      <td>81.4952</td>\n",
       "      <td>3.9923</td>\n",
       "      <td>40326.262626</td>\n",
       "      <td>20998.346457</td>\n",
       "      <td>20276.915350</td>\n",
       "      <td>Regular</td>\n",
       "    </tr>\n",
       "    <tr>\n",
       "      <th>7</th>\n",
       "      <td>Story1</td>\n",
       "      <td>SDx Max</td>\n",
       "      <td>0.001034</td>\n",
       "      <td>2.3E-05</td>\n",
       "      <td>0.001034</td>\n",
       "      <td>0.000023</td>\n",
       "      <td>82.6308</td>\n",
       "      <td>4.0295</td>\n",
       "      <td>175195.652174</td>\n",
       "      <td>28228.383838</td>\n",
       "      <td>25378.754398</td>\n",
       "      <td>Regular</td>\n",
       "    </tr>\n",
       "  </tbody>\n",
       "</table>\n",
       "</div>"
      ],
      "text/plain": [
       "    Story OutputCase        UX        UY       ΔUX       ΔUY       VX      VY  \\\n",
       "0  Story8    SDx Max  0.023583  0.000879  0.002284  0.000112  16.9984   0.844   \n",
       "1  Story7    SDx Max  0.021299  0.000767  0.002981  0.000108   34.801  1.7267   \n",
       "2  Story6    SDx Max  0.018318  0.000659  0.003436  0.000128  49.2654   2.437   \n",
       "3  Story5    SDx Max  0.014882  0.000531  0.003817  0.000142   60.929  3.0096   \n",
       "4  Story4    SDx Max  0.011065  0.000389  0.003818  0.000140  70.4907  3.4785   \n",
       "5  Story3    SDx Max  0.007247  0.000249  0.003535  0.000127  77.4059  3.8097   \n",
       "6  Story2    SDx Max  0.003712  0.000122  0.002678  0.000099  81.4952  3.9923   \n",
       "7  Story1    SDx Max  0.001034   2.3E-05  0.001034  0.000023  82.6308  4.0295   \n",
       "\n",
       "      lat_rig(k)    0.7_prev_k     0.8k_prom   is_reg  \n",
       "0    7535.714286      0.000000      0.000000  Regular  \n",
       "1   15987.962963   5275.000000      0.000000  Regular  \n",
       "2   19039.062500  11191.574074      0.000000  Regular  \n",
       "3   21194.366197  13327.343750  11350.063933  Regular  \n",
       "4   24846.428571  14836.056338  14992.371109  Regular  \n",
       "5   29997.637795  17392.500000  17354.628605  Regular  \n",
       "6   40326.262626  20998.346457  20276.915350  Regular  \n",
       "7  175195.652174  28228.383838  25378.754398  Regular  "
      ]
     },
     "metadata": {},
     "output_type": "display_data"
    }
   ],
   "source": [
    "sismo.piso_blando(SapModel,report=True)"
   ]
  },
  {
   "cell_type": "markdown",
   "metadata": {},
   "source": [
    "## Revisión por Irregularidad de Masa"
   ]
  },
  {
   "cell_type": "code",
   "execution_count": 17,
   "metadata": {},
   "outputs": [
    {
     "data": {
      "text/html": [
       "<div>\n",
       "<style scoped>\n",
       "    .dataframe tbody tr th:only-of-type {\n",
       "        vertical-align: middle;\n",
       "    }\n",
       "\n",
       "    .dataframe tbody tr th {\n",
       "        vertical-align: top;\n",
       "    }\n",
       "\n",
       "    .dataframe thead th {\n",
       "        text-align: right;\n",
       "    }\n",
       "</style>\n",
       "<table border=\"1\" class=\"dataframe\">\n",
       "  <thead>\n",
       "    <tr style=\"text-align: right;\">\n",
       "      <th></th>\n",
       "      <th>Story</th>\n",
       "      <th>Mass</th>\n",
       "      <th>1.5 Mass</th>\n",
       "      <th>story_type</th>\n",
       "      <th>is_regular</th>\n",
       "    </tr>\n",
       "  </thead>\n",
       "  <tbody>\n",
       "    <tr>\n",
       "      <th>0</th>\n",
       "      <td>Story8</td>\n",
       "      <td>6.66875</td>\n",
       "      <td></td>\n",
       "      <td>Azotea</td>\n",
       "      <td>Regular</td>\n",
       "    </tr>\n",
       "    <tr>\n",
       "      <th>1</th>\n",
       "      <td>Story7</td>\n",
       "      <td>8.75356</td>\n",
       "      <td>13.13034</td>\n",
       "      <td>Piso</td>\n",
       "      <td>Regular</td>\n",
       "    </tr>\n",
       "    <tr>\n",
       "      <th>2</th>\n",
       "      <td>Story6</td>\n",
       "      <td>8.73707</td>\n",
       "      <td>13.105605</td>\n",
       "      <td>Piso</td>\n",
       "      <td>Regular</td>\n",
       "    </tr>\n",
       "    <tr>\n",
       "      <th>3</th>\n",
       "      <td>Story5</td>\n",
       "      <td>8.73903</td>\n",
       "      <td>13.108545</td>\n",
       "      <td>Piso</td>\n",
       "      <td>Regular</td>\n",
       "    </tr>\n",
       "    <tr>\n",
       "      <th>4</th>\n",
       "      <td>Story4</td>\n",
       "      <td>9.16343</td>\n",
       "      <td>13.745145</td>\n",
       "      <td>Piso</td>\n",
       "      <td>Regular</td>\n",
       "    </tr>\n",
       "    <tr>\n",
       "      <th>5</th>\n",
       "      <td>Story3</td>\n",
       "      <td>9.16343</td>\n",
       "      <td>13.745145</td>\n",
       "      <td>Piso</td>\n",
       "      <td>Regular</td>\n",
       "    </tr>\n",
       "    <tr>\n",
       "      <th>6</th>\n",
       "      <td>Story2</td>\n",
       "      <td>9.16343</td>\n",
       "      <td>13.745145</td>\n",
       "      <td>Piso</td>\n",
       "      <td>Regular</td>\n",
       "    </tr>\n",
       "    <tr>\n",
       "      <th>7</th>\n",
       "      <td>Story1</td>\n",
       "      <td>7.43363</td>\n",
       "      <td>11.150445</td>\n",
       "      <td>Piso</td>\n",
       "      <td>Regular</td>\n",
       "    </tr>\n",
       "    <tr>\n",
       "      <th>8</th>\n",
       "      <td>NT</td>\n",
       "      <td>3.56015</td>\n",
       "      <td></td>\n",
       "      <td>Sotano</td>\n",
       "      <td>Regular</td>\n",
       "    </tr>\n",
       "    <tr>\n",
       "      <th>9</th>\n",
       "      <td>Base</td>\n",
       "      <td>3.91769</td>\n",
       "      <td></td>\n",
       "      <td>Sotano</td>\n",
       "      <td>Regular</td>\n",
       "    </tr>\n",
       "  </tbody>\n",
       "</table>\n",
       "</div>"
      ],
      "text/plain": [
       "    Story     Mass   1.5 Mass story_type is_regular\n",
       "0  Story8  6.66875                Azotea    Regular\n",
       "1  Story7  8.75356   13.13034       Piso    Regular\n",
       "2  Story6  8.73707  13.105605       Piso    Regular\n",
       "3  Story5  8.73903  13.108545       Piso    Regular\n",
       "4  Story4  9.16343  13.745145       Piso    Regular\n",
       "5  Story3  9.16343  13.745145       Piso    Regular\n",
       "6  Story2  9.16343  13.745145       Piso    Regular\n",
       "7  Story1  7.43363  11.150445       Piso    Regular\n",
       "8      NT  3.56015                Sotano    Regular\n",
       "9    Base  3.91769                Sotano    Regular"
      ]
     },
     "metadata": {},
     "output_type": "display_data"
    }
   ],
   "source": [
    "sismo.irregularidad_masa(SapModel,report=True)"
   ]
  },
  {
   "cell_type": "markdown",
   "metadata": {},
   "source": [
    "## Revisión de torsión"
   ]
  },
  {
   "cell_type": "code",
   "execution_count": 18,
   "metadata": {},
   "outputs": [
    {
     "data": {
      "application/vnd.jupyter.widget-view+json": {
       "model_id": "07925dce15754b54bc648d31f72b0f55",
       "version_major": 2,
       "version_minor": 0
      },
      "text/plain": [
       "Dropdown(description='Filtro', options=('Sx Max', 'Sx Min', 'Sy Max', 'Sy Min', 'SDx Max', 'SDy Max', 'sin fil…"
      ]
     },
     "metadata": {},
     "output_type": "display_data"
    },
    {
     "data": {
      "text/html": [
       "<div>\n",
       "<style scoped>\n",
       "    .dataframe tbody tr th:only-of-type {\n",
       "        vertical-align: middle;\n",
       "    }\n",
       "\n",
       "    .dataframe tbody tr th {\n",
       "        vertical-align: top;\n",
       "    }\n",
       "\n",
       "    .dataframe thead th {\n",
       "        text-align: right;\n",
       "    }\n",
       "</style>\n",
       "<table border=\"1\" class=\"dataframe\">\n",
       "  <thead>\n",
       "    <tr style=\"text-align: right;\">\n",
       "      <th></th>\n",
       "      <th>Story</th>\n",
       "      <th>OutputCase</th>\n",
       "      <th>Direction</th>\n",
       "      <th>Max Drift</th>\n",
       "      <th>Avg Drift</th>\n",
       "      <th>Ratio</th>\n",
       "      <th>Height</th>\n",
       "      <th>Drifts</th>\n",
       "      <th>Drift &lt; Dmax/2</th>\n",
       "      <th>tor_reg</th>\n",
       "    </tr>\n",
       "  </thead>\n",
       "  <tbody>\n",
       "    <tr>\n",
       "      <th>0</th>\n",
       "      <td>Story8</td>\n",
       "      <td>Sx Max</td>\n",
       "      <td>X</td>\n",
       "      <td>0.003536</td>\n",
       "      <td>0.003073</td>\n",
       "      <td>1.151</td>\n",
       "      <td>2.5</td>\n",
       "      <td>0.007426</td>\n",
       "      <td>False</td>\n",
       "      <td>Regular</td>\n",
       "    </tr>\n",
       "    <tr>\n",
       "      <th>9</th>\n",
       "      <td>Story7</td>\n",
       "      <td>Sx Max</td>\n",
       "      <td>X</td>\n",
       "      <td>0.004079</td>\n",
       "      <td>0.003789</td>\n",
       "      <td>1.077</td>\n",
       "      <td>2.5</td>\n",
       "      <td>0.008566</td>\n",
       "      <td>False</td>\n",
       "      <td>Regular</td>\n",
       "    </tr>\n",
       "    <tr>\n",
       "      <th>18</th>\n",
       "      <td>Story6</td>\n",
       "      <td>Sx Max</td>\n",
       "      <td>X</td>\n",
       "      <td>0.004785</td>\n",
       "      <td>0.00436</td>\n",
       "      <td>1.097</td>\n",
       "      <td>2.5</td>\n",
       "      <td>0.010049</td>\n",
       "      <td>False</td>\n",
       "      <td>Regular</td>\n",
       "    </tr>\n",
       "    <tr>\n",
       "      <th>27</th>\n",
       "      <td>Story5</td>\n",
       "      <td>Sx Max</td>\n",
       "      <td>X</td>\n",
       "      <td>0.005299</td>\n",
       "      <td>0.004789</td>\n",
       "      <td>1.107</td>\n",
       "      <td>2.5</td>\n",
       "      <td>0.011128</td>\n",
       "      <td>False</td>\n",
       "      <td>Regular</td>\n",
       "    </tr>\n",
       "    <tr>\n",
       "      <th>36</th>\n",
       "      <td>Story4</td>\n",
       "      <td>Sx Max</td>\n",
       "      <td>X</td>\n",
       "      <td>0.005457</td>\n",
       "      <td>0.004915</td>\n",
       "      <td>1.11</td>\n",
       "      <td>2.5</td>\n",
       "      <td>0.011460</td>\n",
       "      <td>False</td>\n",
       "      <td>Regular</td>\n",
       "    </tr>\n",
       "    <tr>\n",
       "      <th>45</th>\n",
       "      <td>Story3</td>\n",
       "      <td>Sx Max</td>\n",
       "      <td>X</td>\n",
       "      <td>0.005263</td>\n",
       "      <td>0.004659</td>\n",
       "      <td>1.13</td>\n",
       "      <td>2.5</td>\n",
       "      <td>0.011052</td>\n",
       "      <td>False</td>\n",
       "      <td>Regular</td>\n",
       "    </tr>\n",
       "    <tr>\n",
       "      <th>54</th>\n",
       "      <td>Story2</td>\n",
       "      <td>Sx Max</td>\n",
       "      <td>X</td>\n",
       "      <td>0.00448</td>\n",
       "      <td>0.00371</td>\n",
       "      <td>1.208</td>\n",
       "      <td>2.5</td>\n",
       "      <td>0.009408</td>\n",
       "      <td>False</td>\n",
       "      <td>Regular</td>\n",
       "    </tr>\n",
       "    <tr>\n",
       "      <th>62</th>\n",
       "      <td>Story1</td>\n",
       "      <td>Sx Max</td>\n",
       "      <td>X</td>\n",
       "      <td>0.001341</td>\n",
       "      <td>0.001119</td>\n",
       "      <td>1.199</td>\n",
       "      <td>1.5</td>\n",
       "      <td>0.004693</td>\n",
       "      <td>False</td>\n",
       "      <td>Regular</td>\n",
       "    </tr>\n",
       "    <tr>\n",
       "      <th>71</th>\n",
       "      <td>NT</td>\n",
       "      <td>Sx Max</td>\n",
       "      <td>X</td>\n",
       "      <td>0.00032</td>\n",
       "      <td>0.000134</td>\n",
       "      <td>2.387</td>\n",
       "      <td>1.75</td>\n",
       "      <td>0.000960</td>\n",
       "      <td>True</td>\n",
       "      <td>Regular</td>\n",
       "    </tr>\n",
       "  </tbody>\n",
       "</table>\n",
       "</div>"
      ],
      "text/plain": [
       "     Story OutputCase Direction Max Drift Avg Drift  Ratio Height    Drifts  \\\n",
       "0   Story8     Sx Max         X  0.003536  0.003073  1.151    2.5  0.007426   \n",
       "9   Story7     Sx Max         X  0.004079  0.003789  1.077    2.5  0.008566   \n",
       "18  Story6     Sx Max         X  0.004785   0.00436  1.097    2.5  0.010049   \n",
       "27  Story5     Sx Max         X  0.005299  0.004789  1.107    2.5  0.011128   \n",
       "36  Story4     Sx Max         X  0.005457  0.004915   1.11    2.5  0.011460   \n",
       "45  Story3     Sx Max         X  0.005263  0.004659   1.13    2.5  0.011052   \n",
       "54  Story2     Sx Max         X   0.00448   0.00371  1.208    2.5  0.009408   \n",
       "62  Story1     Sx Max         X  0.001341  0.001119  1.199    1.5  0.004693   \n",
       "71      NT     Sx Max         X   0.00032  0.000134  2.387   1.75  0.000960   \n",
       "\n",
       "    Drift < Dmax/2  tor_reg  \n",
       "0            False  Regular  \n",
       "9            False  Regular  \n",
       "18           False  Regular  \n",
       "27           False  Regular  \n",
       "36           False  Regular  \n",
       "45           False  Regular  \n",
       "54           False  Regular  \n",
       "62           False  Regular  \n",
       "71            True  Regular  "
      ]
     },
     "metadata": {},
     "output_type": "display_data"
    }
   ],
   "source": [
    "sismo.irregularidad_torsion(SapModel,report=True)"
   ]
  },
  {
   "cell_type": "markdown",
   "metadata": {},
   "source": [
    "## Derivas"
   ]
  },
  {
   "cell_type": "code",
   "execution_count": 19,
   "metadata": {},
   "outputs": [
    {
     "data": {
      "application/vnd.jupyter.widget-view+json": {
       "model_id": "104412d0beac462481c13ceffcce1027",
       "version_major": 2,
       "version_minor": 0
      },
      "text/plain": [
       "Dropdown(description='Filtro', options=('Sx Max', 'Sx Min', 'Sy Max', 'Sy Min', 'SDx Max', 'SDy Max', 'sin fil…"
      ]
     },
     "metadata": {},
     "output_type": "display_data"
    },
    {
     "data": {
      "text/html": [
       "<div>\n",
       "<style scoped>\n",
       "    .dataframe tbody tr th:only-of-type {\n",
       "        vertical-align: middle;\n",
       "    }\n",
       "\n",
       "    .dataframe tbody tr th {\n",
       "        vertical-align: top;\n",
       "    }\n",
       "\n",
       "    .dataframe thead th {\n",
       "        text-align: right;\n",
       "    }\n",
       "</style>\n",
       "<table border=\"1\" class=\"dataframe\">\n",
       "  <thead>\n",
       "    <tr style=\"text-align: right;\">\n",
       "      <th></th>\n",
       "      <th>Story</th>\n",
       "      <th>OutputCase</th>\n",
       "      <th>Direction</th>\n",
       "      <th>Height</th>\n",
       "      <th>Drifts</th>\n",
       "      <th>Drift_Check</th>\n",
       "    </tr>\n",
       "  </thead>\n",
       "  <tbody>\n",
       "    <tr>\n",
       "      <th>0</th>\n",
       "      <td>Story8</td>\n",
       "      <td>Sx Max</td>\n",
       "      <td>X</td>\n",
       "      <td>2.5</td>\n",
       "      <td>0.007426</td>\n",
       "      <td>No Cumple</td>\n",
       "    </tr>\n",
       "    <tr>\n",
       "      <th>9</th>\n",
       "      <td>Story7</td>\n",
       "      <td>Sx Max</td>\n",
       "      <td>X</td>\n",
       "      <td>2.5</td>\n",
       "      <td>0.008566</td>\n",
       "      <td>No Cumple</td>\n",
       "    </tr>\n",
       "    <tr>\n",
       "      <th>18</th>\n",
       "      <td>Story6</td>\n",
       "      <td>Sx Max</td>\n",
       "      <td>X</td>\n",
       "      <td>2.5</td>\n",
       "      <td>0.010049</td>\n",
       "      <td>No Cumple</td>\n",
       "    </tr>\n",
       "    <tr>\n",
       "      <th>27</th>\n",
       "      <td>Story5</td>\n",
       "      <td>Sx Max</td>\n",
       "      <td>X</td>\n",
       "      <td>2.5</td>\n",
       "      <td>0.011128</td>\n",
       "      <td>No Cumple</td>\n",
       "    </tr>\n",
       "    <tr>\n",
       "      <th>36</th>\n",
       "      <td>Story4</td>\n",
       "      <td>Sx Max</td>\n",
       "      <td>X</td>\n",
       "      <td>2.5</td>\n",
       "      <td>0.011460</td>\n",
       "      <td>No Cumple</td>\n",
       "    </tr>\n",
       "    <tr>\n",
       "      <th>45</th>\n",
       "      <td>Story3</td>\n",
       "      <td>Sx Max</td>\n",
       "      <td>X</td>\n",
       "      <td>2.5</td>\n",
       "      <td>0.011052</td>\n",
       "      <td>No Cumple</td>\n",
       "    </tr>\n",
       "    <tr>\n",
       "      <th>54</th>\n",
       "      <td>Story2</td>\n",
       "      <td>Sx Max</td>\n",
       "      <td>X</td>\n",
       "      <td>2.5</td>\n",
       "      <td>0.009408</td>\n",
       "      <td>No Cumple</td>\n",
       "    </tr>\n",
       "    <tr>\n",
       "      <th>62</th>\n",
       "      <td>Story1</td>\n",
       "      <td>Sx Max</td>\n",
       "      <td>X</td>\n",
       "      <td>1.5</td>\n",
       "      <td>0.004693</td>\n",
       "      <td>Cumple</td>\n",
       "    </tr>\n",
       "    <tr>\n",
       "      <th>71</th>\n",
       "      <td>NT</td>\n",
       "      <td>Sx Max</td>\n",
       "      <td>X</td>\n",
       "      <td>1.75</td>\n",
       "      <td>0.000960</td>\n",
       "      <td>Cumple</td>\n",
       "    </tr>\n",
       "  </tbody>\n",
       "</table>\n",
       "</div>"
      ],
      "text/plain": [
       "     Story OutputCase Direction Height    Drifts Drift_Check\n",
       "0   Story8     Sx Max         X    2.5  0.007426   No Cumple\n",
       "9   Story7     Sx Max         X    2.5  0.008566   No Cumple\n",
       "18  Story6     Sx Max         X    2.5  0.010049   No Cumple\n",
       "27  Story5     Sx Max         X    2.5  0.011128   No Cumple\n",
       "36  Story4     Sx Max         X    2.5  0.011460   No Cumple\n",
       "45  Story3     Sx Max         X    2.5  0.011052   No Cumple\n",
       "54  Story2     Sx Max         X    2.5  0.009408   No Cumple\n",
       "62  Story1     Sx Max         X    1.5  0.004693      Cumple\n",
       "71      NT     Sx Max         X   1.75  0.000960      Cumple"
      ]
     },
     "metadata": {},
     "output_type": "display_data"
    },
    {
     "data": {
      "image/png": "[encoded data removed]",
      "text/plain": [
       "<Figure size 432x288 with 1 Axes>"
      ]
     },
     "metadata": {
      "needs_background": "light"
     },
     "output_type": "display_data"
    }
   ],
   "source": [
    "sismo.derivas(SapModel,report=True)"
   ]
  },
  {
   "cell_type": "markdown",
   "metadata": {},
   "source": [
    "# Desplazamientos Laterales"
   ]
  },
  {
   "cell_type": "code",
   "execution_count": 20,
   "metadata": {},
   "outputs": [
    {
     "data": {
      "application/vnd.jupyter.widget-view+json": {
       "model_id": "ab0a0bb27d6449fcbcd7abfdb10ac306",
       "version_major": 2,
       "version_minor": 0
      },
      "text/plain": [
       "Dropdown(description='Filtro', options=('Sx Max', 'Sx Min', 'Sy Max', 'Sy Min', 'SDx Max', 'SDy Max', 'sin fil…"
      ]
     },
     "metadata": {},
     "output_type": "display_data"
    },
    {
     "data": {
      "text/html": [
       "<div>\n",
       "<style scoped>\n",
       "    .dataframe tbody tr th:only-of-type {\n",
       "        vertical-align: middle;\n",
       "    }\n",
       "\n",
       "    .dataframe tbody tr th {\n",
       "        vertical-align: top;\n",
       "    }\n",
       "\n",
       "    .dataframe thead th {\n",
       "        text-align: right;\n",
       "    }\n",
       "</style>\n",
       "<table border=\"1\" class=\"dataframe\">\n",
       "  <thead>\n",
       "    <tr style=\"text-align: right;\">\n",
       "      <th></th>\n",
       "      <th>Story</th>\n",
       "      <th>OutputCase</th>\n",
       "      <th>Direction</th>\n",
       "      <th>Maximum</th>\n",
       "      <th>Height</th>\n",
       "    </tr>\n",
       "  </thead>\n",
       "  <tbody>\n",
       "    <tr>\n",
       "      <th>0</th>\n",
       "      <td>Story8</td>\n",
       "      <td>Sx Max</td>\n",
       "      <td>X</td>\n",
       "      <td>0.032768</td>\n",
       "      <td>2.5</td>\n",
       "    </tr>\n",
       "    <tr>\n",
       "      <th>9</th>\n",
       "      <td>Story7</td>\n",
       "      <td>Sx Max</td>\n",
       "      <td>X</td>\n",
       "      <td>0.029232</td>\n",
       "      <td>2.5</td>\n",
       "    </tr>\n",
       "    <tr>\n",
       "      <th>18</th>\n",
       "      <td>Story6</td>\n",
       "      <td>Sx Max</td>\n",
       "      <td>X</td>\n",
       "      <td>0.025153</td>\n",
       "      <td>2.5</td>\n",
       "    </tr>\n",
       "    <tr>\n",
       "      <th>27</th>\n",
       "      <td>Story5</td>\n",
       "      <td>Sx Max</td>\n",
       "      <td>X</td>\n",
       "      <td>0.020404</td>\n",
       "      <td>2.5</td>\n",
       "    </tr>\n",
       "    <tr>\n",
       "      <th>36</th>\n",
       "      <td>Story4</td>\n",
       "      <td>Sx Max</td>\n",
       "      <td>X</td>\n",
       "      <td>0.015226</td>\n",
       "      <td>2.5</td>\n",
       "    </tr>\n",
       "    <tr>\n",
       "      <th>45</th>\n",
       "      <td>Story3</td>\n",
       "      <td>Sx Max</td>\n",
       "      <td>X</td>\n",
       "      <td>0.009943</td>\n",
       "      <td>2.5</td>\n",
       "    </tr>\n",
       "    <tr>\n",
       "      <th>54</th>\n",
       "      <td>Story2</td>\n",
       "      <td>Sx Max</td>\n",
       "      <td>X</td>\n",
       "      <td>0.005057</td>\n",
       "      <td>2.5</td>\n",
       "    </tr>\n",
       "    <tr>\n",
       "      <th>63</th>\n",
       "      <td>Story1</td>\n",
       "      <td>Sx Max</td>\n",
       "      <td>X</td>\n",
       "      <td>0.001341</td>\n",
       "      <td>1.5</td>\n",
       "    </tr>\n",
       "  </tbody>\n",
       "</table>\n",
       "</div>"
      ],
      "text/plain": [
       "     Story OutputCase Direction   Maximum Height\n",
       "0   Story8     Sx Max         X  0.032768    2.5\n",
       "9   Story7     Sx Max         X  0.029232    2.5\n",
       "18  Story6     Sx Max         X  0.025153    2.5\n",
       "27  Story5     Sx Max         X  0.020404    2.5\n",
       "36  Story4     Sx Max         X  0.015226    2.5\n",
       "45  Story3     Sx Max         X  0.009943    2.5\n",
       "54  Story2     Sx Max         X  0.005057    2.5\n",
       "63  Story1     Sx Max         X  0.001341    1.5"
      ]
     },
     "metadata": {},
     "output_type": "display_data"
    },
    {
     "data": {
      "image/png": "[encoded data removed]",
      "text/plain": [
       "<Figure size 432x288 with 1 Axes>"
      ]
     },
     "metadata": {
      "needs_background": "light"
     },
     "output_type": "display_data"
    }
   ],
   "source": [
    "sismo.desplazamientos(SapModel,report=True)"
   ]
  },
  {
   "cell_type": "markdown",
   "metadata": {},
   "source": [
    "# Centro de Masas e Inercias"
   ]
  },
  {
   "cell_type": "code",
   "execution_count": 21,
   "metadata": {},
   "outputs": [
    {
     "data": {
      "text/html": [
       "<div>\n",
       "<style scoped>\n",
       "    .dataframe tbody tr th:only-of-type {\n",
       "        vertical-align: middle;\n",
       "    }\n",
       "\n",
       "    .dataframe tbody tr th {\n",
       "        vertical-align: top;\n",
       "    }\n",
       "\n",
       "    .dataframe thead th {\n",
       "        text-align: right;\n",
       "    }\n",
       "</style>\n",
       "<table border=\"1\" class=\"dataframe\">\n",
       "  <thead>\n",
       "    <tr style=\"text-align: right;\">\n",
       "      <th></th>\n",
       "      <th>Story</th>\n",
       "      <th>XCCM</th>\n",
       "      <th>XCR</th>\n",
       "      <th>YCCM</th>\n",
       "      <th>YCR</th>\n",
       "      <th>DifX</th>\n",
       "      <th>DifY</th>\n",
       "    </tr>\n",
       "  </thead>\n",
       "  <tbody>\n",
       "    <tr>\n",
       "      <th>0</th>\n",
       "      <td>Story8</td>\n",
       "      <td>2.3976</td>\n",
       "      <td>1.7379</td>\n",
       "      <td>-9.6781</td>\n",
       "      <td>-10.0923</td>\n",
       "      <td>0.6597</td>\n",
       "      <td>0.4142</td>\n",
       "    </tr>\n",
       "    <tr>\n",
       "      <th>1</th>\n",
       "      <td>Story7</td>\n",
       "      <td>2.3794</td>\n",
       "      <td>1.739</td>\n",
       "      <td>-9.3922</td>\n",
       "      <td>-10.0856</td>\n",
       "      <td>0.6404</td>\n",
       "      <td>0.6934</td>\n",
       "    </tr>\n",
       "    <tr>\n",
       "      <th>2</th>\n",
       "      <td>Story6</td>\n",
       "      <td>2.3718</td>\n",
       "      <td>1.7351</td>\n",
       "      <td>-9.3176</td>\n",
       "      <td>-10.1248</td>\n",
       "      <td>0.6367</td>\n",
       "      <td>0.8072</td>\n",
       "    </tr>\n",
       "    <tr>\n",
       "      <th>3</th>\n",
       "      <td>Story5</td>\n",
       "      <td>2.3688</td>\n",
       "      <td>1.73</td>\n",
       "      <td>-9.2827</td>\n",
       "      <td>-10.1349</td>\n",
       "      <td>0.6388</td>\n",
       "      <td>0.8522</td>\n",
       "    </tr>\n",
       "    <tr>\n",
       "      <th>4</th>\n",
       "      <td>Story4</td>\n",
       "      <td>2.3652</td>\n",
       "      <td>1.7334</td>\n",
       "      <td>-9.3152</td>\n",
       "      <td>-10.0882</td>\n",
       "      <td>0.6318</td>\n",
       "      <td>0.7730</td>\n",
       "    </tr>\n",
       "    <tr>\n",
       "      <th>5</th>\n",
       "      <td>Story3</td>\n",
       "      <td>2.3629</td>\n",
       "      <td>1.7417</td>\n",
       "      <td>-9.336</td>\n",
       "      <td>-9.9847</td>\n",
       "      <td>0.6212</td>\n",
       "      <td>0.6487</td>\n",
       "    </tr>\n",
       "    <tr>\n",
       "      <th>6</th>\n",
       "      <td>Story2</td>\n",
       "      <td>2.3613</td>\n",
       "      <td>1.7636</td>\n",
       "      <td>-9.3505</td>\n",
       "      <td>-9.7004</td>\n",
       "      <td>0.5977</td>\n",
       "      <td>0.3499</td>\n",
       "    </tr>\n",
       "    <tr>\n",
       "      <th>7</th>\n",
       "      <td>Story1</td>\n",
       "      <td>2.338</td>\n",
       "      <td>1.7952</td>\n",
       "      <td>-8.9819</td>\n",
       "      <td>-8.7762</td>\n",
       "      <td>0.5428</td>\n",
       "      <td>-0.2057</td>\n",
       "    </tr>\n",
       "  </tbody>\n",
       "</table>\n",
       "</div>"
      ],
      "text/plain": [
       "    Story    XCCM     XCR     YCCM       YCR    DifX    DifY\n",
       "0  Story8  2.3976  1.7379  -9.6781  -10.0923  0.6597  0.4142\n",
       "1  Story7  2.3794   1.739  -9.3922  -10.0856  0.6404  0.6934\n",
       "2  Story6  2.3718  1.7351  -9.3176  -10.1248  0.6367  0.8072\n",
       "3  Story5  2.3688    1.73  -9.2827  -10.1349  0.6388  0.8522\n",
       "4  Story4  2.3652  1.7334  -9.3152  -10.0882  0.6318  0.7730\n",
       "5  Story3  2.3629  1.7417   -9.336   -9.9847  0.6212  0.6487\n",
       "6  Story2  2.3613  1.7636  -9.3505   -9.7004  0.5977  0.3499\n",
       "7  Story1   2.338  1.7952  -8.9819   -8.7762  0.5428 -0.2057"
      ]
     },
     "metadata": {},
     "output_type": "display_data"
    }
   ],
   "source": [
    "#Activar calculate Diaphragm Center of Rigidity en Set Load Cases to Run\n",
    "sismo.centro_masa_inercia(SapModel,report=True)"
   ]
  },
  {
   "cell_type": "markdown",
   "metadata": {},
   "source": [
    "# Generación de reporte"
   ]
  },
  {
   "cell_type": "code",
   "execution_count": 23,
   "metadata": {},
   "outputs": [
    {
     "ename": "KeyError",
     "evalue": "'A1 no aislado'",
     "output_type": "error",
     "traceback": [
      "\u001b[1;31m---------------------------------------------------------------------------\u001b[0m",
      "\u001b[1;31mKeyError\u001b[0m                                  Traceback (most recent call last)",
      "Input \u001b[1;32mIn [23]\u001b[0m, in \u001b[0;36m<cell line: 1>\u001b[1;34m()\u001b[0m\n\u001b[1;32m----> 1\u001b[0m \u001b[43msismo\u001b[49m\u001b[38;5;241;43m.\u001b[39;49m\u001b[43mgenerate_memoria\u001b[49m\u001b[43m(\u001b[49m\u001b[43m)\u001b[49m\n",
      "File \u001b[1;32mD:\\programas\\automatizacion_estructural\\lib\\sismo_utils.py:736\u001b[0m, in \u001b[0;36mSismo_e30.generate_memoria\u001b[1;34m(self)\u001b[0m\n\u001b[0;32m    734\u001b[0m s_est \u001b[38;5;241m=\u001b[39m smem\u001b[38;5;241m.\u001b[39msist_estructural(sist_x,sist_y)\n\u001b[0;32m    735\u001b[0m f_amp \u001b[38;5;241m=\u001b[39m smem\u001b[38;5;241m.\u001b[39mfactor_amplificacion()\n\u001b[1;32m--> 736\u001b[0m f_imp \u001b[38;5;241m=\u001b[39m \u001b[43msmem\u001b[49m\u001b[38;5;241;43m.\u001b[39;49m\u001b[43mfactor_importancia\u001b[49m\u001b[43m(\u001b[49m\u001b[43mcategoria\u001b[49m\u001b[43m)\u001b[49m\n\u001b[0;32m    737\u001b[0m t_resumen \u001b[38;5;241m=\u001b[39m smem\u001b[38;5;241m.\u001b[39mtabla_resumen(Z,U,S,Tp,Tl,Rox,Roy,Ia,Ip)\n\u001b[0;32m    738\u001b[0m e_resp \u001b[38;5;241m=\u001b[39m smem\u001b[38;5;241m.\u001b[39mespectro_respuesta(T,Sax,Say,Tp,Tl,Rx,Ry)\n",
      "File \u001b[1;32mD:\\programas\\automatizacion_estructural\\lib\\sismo_mem.py:256\u001b[0m, in \u001b[0;36mfactor_importancia\u001b[1;34m(categoria, o_type)\u001b[0m\n\u001b[0;32m    249\u001b[0m data \u001b[38;5;241m=\u001b[39m [[\u001b[38;5;124m'\u001b[39m\u001b[38;5;124mA Edificaciones Escenciales\u001b[39m\u001b[38;5;124m'\u001b[39m,\u001b[38;5;124m'\u001b[39m\u001b[38;5;124mA1: Establecimiento del sector salud (públicos y privados) del segundo y tercer nivel, según lo normado por el ministerio de salud.\u001b[39m\u001b[38;5;124m'\u001b[39m,\u001b[38;5;124m'\u001b[39m\u001b[38;5;124mCon aislamiento 1.0 y sin aislamiento 1.5.\u001b[39m\u001b[38;5;124m'\u001b[39m],\n\u001b[0;32m    250\u001b[0m         [\u001b[38;5;124m'\u001b[39m\u001b[38;5;124m'\u001b[39m,\u001b[38;5;124m'\u001b[39m\u001b[38;5;124mA2: Edificaciones escenciales para el manejo de las emergencias, el funcionamiento del gobierno y en general aquellas que puedan servir de refugio después de un desastre.\u001b[39m\u001b[38;5;124m'\u001b[39m,\u001b[38;5;124m'\u001b[39m\u001b[38;5;124m1.50\u001b[39m\u001b[38;5;124m'\u001b[39m],\n\u001b[0;32m    251\u001b[0m         [\u001b[38;5;124m'\u001b[39m\u001b[38;5;124mB Edificaciones Importantes \u001b[39m\u001b[38;5;124m'\u001b[39m,\u001b[38;5;124m'\u001b[39m\u001b[38;5;124mEdificaciones donde se reúnen gran cantidad de personas tales como cines, teatros, estadios, coliseos, centros comerciales, terminales de buses de pasajeros, establecimientos penitenciarios, o que guardan patrimonios valiosos como museos y bibliotecas.\u001b[39m\u001b[38;5;124m'\u001b[39m,\u001b[38;5;124mr\u001b[39m\u001b[38;5;124m'\u001b[39m\u001b[38;5;124m1.30\u001b[39m\u001b[38;5;124m'\u001b[39m],\n\u001b[0;32m    252\u001b[0m         [\u001b[38;5;124m'\u001b[39m\u001b[38;5;124mC Edificaciones Comunes\u001b[39m\u001b[38;5;124m'\u001b[39m,\u001b[38;5;124m'\u001b[39m\u001b[38;5;124mEdificaciones comunes tales como: viviendas, oficinas, hoteles, restaurantes, depósitos e instalaciones industriales cuya falla no acarree peligros adicionales de incendios o fugas de contaminantes.\u001b[39m\u001b[38;5;124m'\u001b[39m,\u001b[38;5;124mr\u001b[39m\u001b[38;5;124m'\u001b[39m\u001b[38;5;124m1.00\u001b[39m\u001b[38;5;124m'\u001b[39m],\n\u001b[0;32m    253\u001b[0m         [\u001b[38;5;124m'\u001b[39m\u001b[38;5;124mD Edificaciones temporales\u001b[39m\u001b[38;5;124m'\u001b[39m,\u001b[38;5;124m'\u001b[39m\u001b[38;5;124mConstrucciones provisionales para depósitos, casetas y otras similares.\u001b[39m\u001b[38;5;124m'\u001b[39m,\u001b[38;5;124m'\u001b[39m\u001b[38;5;124mA criterio del proyectista\u001b[39m\u001b[38;5;124m'\u001b[39m]]\n\u001b[0;32m    255\u001b[0m data[\u001b[38;5;241m0\u001b[39m][\u001b[38;5;241m0\u001b[39m] \u001b[38;5;241m=\u001b[39m \u001b[38;5;124mr\u001b[39m\u001b[38;5;124m'\u001b[39m\u001b[38;5;124m\\\u001b[39m\u001b[38;5;124mmultirow\u001b[39m\u001b[38;5;132;01m{2}\u001b[39;00m\u001b[38;5;124m[4]\u001b[39m\u001b[38;5;132;01m{3cm}\u001b[39;00m\u001b[38;5;124m{\u001b[39m\u001b[38;5;124m'\u001b[39m\u001b[38;5;241m+\u001b[39mdata[\u001b[38;5;241m0\u001b[39m][\u001b[38;5;241m0\u001b[39m] \u001b[38;5;241m+\u001b[39m \u001b[38;5;124m'\u001b[39m\u001b[38;5;124m}\u001b[39m\u001b[38;5;124m'\u001b[39m\n\u001b[1;32m--> 256\u001b[0m data[cat_ind[categoria]][\u001b[38;5;241m2\u001b[39m] \u001b[38;5;241m=\u001b[39m \u001b[38;5;124mr\u001b[39m\u001b[38;5;124m'\u001b[39m\u001b[38;5;124m\\\u001b[39m\u001b[38;5;124mtextcolor[rgb]\u001b[39m\u001b[38;5;124m{\u001b[39m\u001b[38;5;124m 1,  0,  0}\u001b[39m\u001b[38;5;124m{\u001b[39m\u001b[38;5;124m\\\u001b[39m\u001b[38;5;124mtextbf\u001b[39m\u001b[38;5;124m{\u001b[39m\u001b[38;5;124m'\u001b[39m \u001b[38;5;241m+\u001b[39m data[\u001b[43mcat_ind\u001b[49m\u001b[43m[\u001b[49m\u001b[43mcategoria\u001b[49m\u001b[43m]\u001b[49m][\u001b[38;5;241m2\u001b[39m] \u001b[38;5;241m+\u001b[39m \u001b[38;5;124mr\u001b[39m\u001b[38;5;124m'\u001b[39m\u001b[38;5;124m}}\u001b[39m\u001b[38;5;124m'\u001b[39m\n\u001b[0;32m    257\u001b[0m \u001b[38;5;28;01mif\u001b[39;00m cat_ind[categoria] \u001b[38;5;241m<\u001b[39m \u001b[38;5;241m2\u001b[39m:\n\u001b[0;32m    258\u001b[0m     data[cat_ind[categoria]] \u001b[38;5;241m=\u001b[39m [data[cat_ind[categoria]][\u001b[38;5;241m0\u001b[39m]] \u001b[38;5;241m+\u001b[39m [i \u001b[38;5;241m+\u001b[39m \u001b[38;5;124mr\u001b[39m\u001b[38;5;124m'\u001b[39m\u001b[38;5;124m\\\u001b[39m\u001b[38;5;124mcellcolor[rgb]\u001b[39m\u001b[38;5;124m{\u001b[39m\u001b[38;5;124m1,  .949,  .8}\u001b[39m\u001b[38;5;124m'\u001b[39m \u001b[38;5;28;01mfor\u001b[39;00m i \u001b[38;5;129;01min\u001b[39;00m data[cat_ind[categoria]][\u001b[38;5;241m1\u001b[39m:]]\n",
      "\u001b[1;31mKeyError\u001b[0m: 'A1 no aislado'"
     ]
    }
   ],
   "source": [
    "sismo.generate_memoria()"
   ]
  },
  {
   "cell_type": "code",
   "execution_count": null,
   "metadata": {},
   "outputs": [],
   "source": []
  }
 ],
 "metadata": {
  "kernelspec": {
   "display_name": "Python 3 (ipykernel)",
   "language": "python",
   "name": "python3"
  },
  "language_info": {
   "codemirror_mode": {
    "name": "ipython",
    "version": 3
   },
   "file_extension": ".py",
   "mimetype": "text/x-python",
   "name": "python",
   "nbconvert_exporter": "python",
   "pygments_lexer": "ipython3",
   "version": "3.10.8"
  },
  "toc-showmarkdowntxt": true,
  "vscode": {
   "interpreter": {
    "hash": "bac46d45b902eb1257731b3cec425c94a9ada4fac09ba91d7557c516a1f31c36"
   }
  }
 },
 "nbformat": 4,
 "nbformat_minor": 4
}
