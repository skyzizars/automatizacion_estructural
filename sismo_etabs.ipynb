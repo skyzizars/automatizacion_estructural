{
 "cells": [
  {
   "cell_type": "markdown",
   "metadata": {},
   "source": [
    "# Análisis Sísmico"
   ]
  },
  {
   "cell_type": "code",
   "execution_count": 35,
   "metadata": {},
   "outputs": [
    {
     "name": "stdout",
     "output_type": "stream",
     "text": [
      "The autoreload extension is already loaded. To reload it, use:\n",
      "  %reload_ext autoreload\n"
     ]
    }
   ],
   "source": [
    "#Importar las librerías necesarias\n",
    "%load_ext autoreload\n",
    "%autoreload 2\n",
    "import os\n",
    "import sys\n",
    "sys.path.append(os.getcwd())\n",
    "from lib import etabs_utils as etb\n",
    "from lib import sismo_utils as sis\n",
    "from lib import notebook_utils as ntb\n",
    "#from mem import sismo_mem as smem\n",
    "from ipywidgets import widgets\n",
    "from IPython.display import display"
   ]
  },
  {
   "cell_type": "code",
   "execution_count": 36,
   "metadata": {},
   "outputs": [],
   "source": [
    "_,SapModel = etb.connect_to_etabs()"
   ]
  },
  {
   "cell_type": "code",
   "execution_count": 37,
   "metadata": {},
   "outputs": [],
   "source": [
    "sismo = ntb.Sismo()"
   ]
  },
  {
   "cell_type": "markdown",
   "metadata": {},
   "source": [
    "# Parámetros de Sitio\n",
    "\n",
    "## Zonificación\n",
    "![Factor de Zonifiación](./images/factor_zona.png)"
   ]
  },
  {
   "cell_type": "markdown",
   "metadata": {},
   "source": [
    "## Factor de Suelo\n",
    "![Factor de Suelo](./images/factor_suelo.png)\n"
   ]
  },
  {
   "cell_type": "markdown",
   "metadata": {},
   "source": [
    "## Periodos del suelo\n",
    "![Periodos del Suelo](./images/periodos_suelo.png)"
   ]
  },
  {
   "cell_type": "markdown",
   "metadata": {},
   "source": [
    "## Sistema Estructural\n",
    "![Sistema Estructural](./images/sistemas_estructurales.png)"
   ]
  },
  {
   "cell_type": "markdown",
   "metadata": {},
   "source": [
    "## Factor de Amplificación sísmica\n",
    "![Factor de Amplificacion Sísmica](./images/amplificacion_sismica.png)"
   ]
  },
  {
   "cell_type": "markdown",
   "metadata": {},
   "source": [
    "## Factor de Importancia\n",
    "![Factor de Importancia](./images//factor_importancia.png)"
   ]
  },
  {
   "cell_type": "code",
   "execution_count": 38,
   "metadata": {},
   "outputs": [
    {
     "data": {
      "application/vnd.jupyter.widget-view+json": {
       "model_id": "d8445feb1f1440b1b4b146b4d82b66b9",
       "version_major": 2,
       "version_minor": 0
      },
      "text/plain": [
       "VBox(children=(Dropdown(description='Factor Zona', index=3, options=(1, 2, 3, 4), style=DescriptionStyle(descr…"
      ]
     },
     "metadata": {},
     "output_type": "display_data"
    }
   ],
   "source": [
    "sismo.parametros_e30()"
   ]
  },
  {
   "cell_type": "markdown",
   "metadata": {},
   "source": [
    "# Irregularidades"
   ]
  },
  {
   "cell_type": "code",
   "execution_count": 39,
   "metadata": {},
   "outputs": [
    {
     "data": {
      "application/vnd.jupyter.widget-view+json": {
       "model_id": "e53f47dc0a9e4277a42bf19c842d25e6",
       "version_major": 2,
       "version_minor": 0
      },
      "text/plain": [
       "HBox(children=(VBox(children=(HTML(value='<b>Irregularidad en Altura</b>'), Checkbox(value=False, description=…"
      ]
     },
     "metadata": {},
     "output_type": "display_data"
    }
   ],
   "source": [
    "sismo.irregularidades_e30()"
   ]
  },
  {
   "cell_type": "markdown",
   "metadata": {},
   "source": [
    "# Parámetros Sísmicos"
   ]
  },
  {
   "cell_type": "code",
   "execution_count": 40,
   "metadata": {},
   "outputs": [
    {
     "name": "stdout",
     "output_type": "stream",
     "text": [
      "\n",
      "\u001b[1m Parámetros de sitio:\u001b[0m\n",
      "Factor de zona: \n",
      "    Z=0.45\n",
      "Factor de Importancia: \n",
      "    U=1.00\n",
      "Factor de Suelo: \n",
      "    S=1.05\n",
      "Periodos del Suelo: \n",
      "    Tp=0.60\n",
      "    Tl=2.00\n",
      "Factor Básico de Reducción:\n",
      "    Rox=7.00\n",
      "    Roy=7.00\n",
      "Irregularidad en planta:\n",
      "    Ip=1.00\n",
      "Irregularidad en altura:\n",
      "    Ia=1.00\n",
      "Factor de Reducción:\n",
      "    Rx=7.00\n",
      "    Ry=7.00\n",
      "\n"
     ]
    }
   ],
   "source": [
    "sismo.show_params()"
   ]
  },
  {
   "cell_type": "code",
   "execution_count": 41,
   "metadata": {},
   "outputs": [
    {
     "data": {
      "application/vnd.jupyter.widget-view+json": {
       "model_id": "a0ede29964584e07b9815a9f87182141",
       "version_major": 2,
       "version_minor": 0
      },
      "text/plain": [
       "HBox(children=(VBox(children=(HTML(value='<b>Dirección X</b>'), Dropdown(description='Sismo Estatico en X', in…"
      ]
     },
     "metadata": {},
     "output_type": "display_data"
    }
   ],
   "source": [
    "sismo.select_loads(SapModel)"
   ]
  },
  {
   "cell_type": "code",
   "execution_count": 42,
   "metadata": {},
   "outputs": [
    {
     "data": {
      "application/vnd.jupyter.widget-view+json": {
       "model_id": "74ec540fad6941c29c0a1263ea9c61f8",
       "version_major": 2,
       "version_minor": 0
      },
      "text/plain": [
       "Dropdown(description='Piso Base', options=('Story1', 'Story2', 'Story3'), style=DescriptionStyle(description_w…"
      ]
     },
     "metadata": {},
     "output_type": "display_data"
    }
   ],
   "source": [
    "sismo.select_base_story(SapModel)"
   ]
  },
  {
   "cell_type": "code",
   "execution_count": 43,
   "metadata": {},
   "outputs": [],
   "source": [
    "sismo.analisis_sismo(SapModel)"
   ]
  },
  {
   "cell_type": "code",
   "execution_count": 44,
   "metadata": {},
   "outputs": [
    {
     "data": {
      "text/html": [
       "<div>\n",
       "<style scoped>\n",
       "    .dataframe tbody tr th:only-of-type {\n",
       "        vertical-align: middle;\n",
       "    }\n",
       "\n",
       "    .dataframe tbody tr th {\n",
       "        vertical-align: top;\n",
       "    }\n",
       "\n",
       "    .dataframe thead th {\n",
       "        text-align: right;\n",
       "    }\n",
       "</style>\n",
       "<table border=\"1\" class=\"dataframe\">\n",
       "  <thead>\n",
       "    <tr style=\"text-align: right;\">\n",
       "      <th></th>\n",
       "      <th>Mode</th>\n",
       "      <th>Period</th>\n",
       "      <th>UX</th>\n",
       "      <th>UY</th>\n",
       "      <th>RZ</th>\n",
       "      <th>SumUX</th>\n",
       "      <th>SumUY</th>\n",
       "      <th>SumRZ</th>\n",
       "    </tr>\n",
       "  </thead>\n",
       "  <tbody>\n",
       "    <tr>\n",
       "      <th>0</th>\n",
       "      <td>1</td>\n",
       "      <td>0.36</td>\n",
       "      <td>0.864000</td>\n",
       "      <td>0.000000</td>\n",
       "      <td>2.486E-06</td>\n",
       "      <td>0.864</td>\n",
       "      <td>0</td>\n",
       "      <td>2.486E-06</td>\n",
       "    </tr>\n",
       "    <tr>\n",
       "      <th>1</th>\n",
       "      <td>2</td>\n",
       "      <td>0.273</td>\n",
       "      <td>0.000000</td>\n",
       "      <td>0.871800</td>\n",
       "      <td>1.513E-06</td>\n",
       "      <td>0.864</td>\n",
       "      <td>0.8718</td>\n",
       "      <td>4E-06</td>\n",
       "    </tr>\n",
       "    <tr>\n",
       "      <th>2</th>\n",
       "      <td>3</td>\n",
       "      <td>0.225</td>\n",
       "      <td>0.000011</td>\n",
       "      <td>0.000001</td>\n",
       "      <td>0.8499</td>\n",
       "      <td>0.864</td>\n",
       "      <td>0.8718</td>\n",
       "      <td>0.8499</td>\n",
       "    </tr>\n",
       "    <tr>\n",
       "      <th>3</th>\n",
       "      <td>4</td>\n",
       "      <td>0.101</td>\n",
       "      <td>0.118800</td>\n",
       "      <td>0.000000</td>\n",
       "      <td>4.188E-06</td>\n",
       "      <td>0.9828</td>\n",
       "      <td>0.8718</td>\n",
       "      <td>0.8499</td>\n",
       "    </tr>\n",
       "    <tr>\n",
       "      <th>4</th>\n",
       "      <td>5</td>\n",
       "      <td>0.077</td>\n",
       "      <td>0.000000</td>\n",
       "      <td>0.111900</td>\n",
       "      <td>0</td>\n",
       "      <td>0.9828</td>\n",
       "      <td>0.9837</td>\n",
       "      <td>0.8499</td>\n",
       "    </tr>\n",
       "    <tr>\n",
       "      <th>5</th>\n",
       "      <td>6</td>\n",
       "      <td>0.062</td>\n",
       "      <td>0.000000</td>\n",
       "      <td>0.000000</td>\n",
       "      <td>0.1317</td>\n",
       "      <td>0.9828</td>\n",
       "      <td>0.9837</td>\n",
       "      <td>0.9816</td>\n",
       "    </tr>\n",
       "    <tr>\n",
       "      <th>6</th>\n",
       "      <td>7</td>\n",
       "      <td>0.048</td>\n",
       "      <td>0.017200</td>\n",
       "      <td>0.000000</td>\n",
       "      <td>6.349E-07</td>\n",
       "      <td>1</td>\n",
       "      <td>0.9837</td>\n",
       "      <td>0.9816</td>\n",
       "    </tr>\n",
       "    <tr>\n",
       "      <th>7</th>\n",
       "      <td>8</td>\n",
       "      <td>0.037</td>\n",
       "      <td>0.000000</td>\n",
       "      <td>0.016300</td>\n",
       "      <td>0</td>\n",
       "      <td>1</td>\n",
       "      <td>1</td>\n",
       "      <td>0.9816</td>\n",
       "    </tr>\n",
       "    <tr>\n",
       "      <th>8</th>\n",
       "      <td>9</td>\n",
       "      <td>0.029</td>\n",
       "      <td>0.000002</td>\n",
       "      <td>0.000000</td>\n",
       "      <td>0.0184</td>\n",
       "      <td>1</td>\n",
       "      <td>1</td>\n",
       "      <td>1</td>\n",
       "    </tr>\n",
       "  </tbody>\n",
       "</table>\n",
       "</div>"
      ],
      "text/plain": [
       "  Mode Period        UX        UY         RZ   SumUX   SumUY      SumRZ\n",
       "0    1   0.36  0.864000  0.000000  2.486E-06   0.864       0  2.486E-06\n",
       "1    2  0.273  0.000000  0.871800  1.513E-06   0.864  0.8718      4E-06\n",
       "2    3  0.225  0.000011  0.000001     0.8499   0.864  0.8718     0.8499\n",
       "3    4  0.101  0.118800  0.000000  4.188E-06  0.9828  0.8718     0.8499\n",
       "4    5  0.077  0.000000  0.111900          0  0.9828  0.9837     0.8499\n",
       "5    6  0.062  0.000000  0.000000     0.1317  0.9828  0.9837     0.9816\n",
       "6    7  0.048  0.017200  0.000000  6.349E-07       1  0.9837     0.9816\n",
       "7    8  0.037  0.000000  0.016300          0       1       1     0.9816\n",
       "8    9  0.029  0.000002  0.000000     0.0184       1       1          1"
      ]
     },
     "execution_count": 44,
     "metadata": {},
     "output_type": "execute_result"
    }
   ],
   "source": [
    "sismo.tables.modal"
   ]
  },
  {
   "cell_type": "markdown",
   "metadata": {},
   "source": [
    "## Revisión por Piso Blando"
   ]
  },
  {
   "cell_type": "code",
   "execution_count": 45,
   "metadata": {},
   "outputs": [
    {
     "data": {
      "application/vnd.jupyter.widget-view+json": {
       "model_id": "dd7839124efa4b959b876485d3892a1c",
       "version_major": 2,
       "version_minor": 0
      },
      "text/plain": [
       "Dropdown(description='Filtro', options=('SDx Max', 'Sy', 'SDy Max', 'Sx', 'sin filtro'), style=DescriptionStyl…"
      ]
     },
     "metadata": {},
     "output_type": "display_data"
    },
    {
     "data": {
      "text/html": [
       "<div>\n",
       "<style scoped>\n",
       "    .dataframe tbody tr th:only-of-type {\n",
       "        vertical-align: middle;\n",
       "    }\n",
       "\n",
       "    .dataframe tbody tr th {\n",
       "        vertical-align: top;\n",
       "    }\n",
       "\n",
       "    .dataframe thead th {\n",
       "        text-align: right;\n",
       "    }\n",
       "</style>\n",
       "<table border=\"1\" class=\"dataframe\">\n",
       "  <thead>\n",
       "    <tr style=\"text-align: right;\">\n",
       "      <th></th>\n",
       "      <th>Story</th>\n",
       "      <th>OutputCase</th>\n",
       "      <th>UX</th>\n",
       "      <th>UY</th>\n",
       "      <th>ΔUX</th>\n",
       "      <th>ΔUY</th>\n",
       "      <th>VX</th>\n",
       "      <th>VY</th>\n",
       "      <th>lat_rig(k)</th>\n",
       "      <th>0.7_prev_k</th>\n",
       "      <th>0.8k_prom</th>\n",
       "      <th>is_reg</th>\n",
       "    </tr>\n",
       "  </thead>\n",
       "  <tbody>\n",
       "    <tr>\n",
       "      <th>0</th>\n",
       "      <td>Story3</td>\n",
       "      <td>SDx Max</td>\n",
       "      <td>0.012806</td>\n",
       "      <td>0.001874</td>\n",
       "      <td>0.003676</td>\n",
       "      <td>0.000509</td>\n",
       "      <td>37.5374</td>\n",
       "      <td>9.565</td>\n",
       "      <td>18791.748527</td>\n",
       "      <td>0.000000</td>\n",
       "      <td>0.0</td>\n",
       "      <td>Regular</td>\n",
       "    </tr>\n",
       "    <tr>\n",
       "      <th>1</th>\n",
       "      <td>Story2</td>\n",
       "      <td>SDx Max</td>\n",
       "      <td>0.00913</td>\n",
       "      <td>0.001365</td>\n",
       "      <td>0.004582</td>\n",
       "      <td>0.000674</td>\n",
       "      <td>74.2772</td>\n",
       "      <td>19.1643</td>\n",
       "      <td>28433.679525</td>\n",
       "      <td>13154.223969</td>\n",
       "      <td>0.0</td>\n",
       "      <td>Regular</td>\n",
       "    </tr>\n",
       "    <tr>\n",
       "      <th>2</th>\n",
       "      <td>Story1</td>\n",
       "      <td>SDx Max</td>\n",
       "      <td>0.004548</td>\n",
       "      <td>0.000691</td>\n",
       "      <td>0.004548</td>\n",
       "      <td>0.000691</td>\n",
       "      <td>95.2085</td>\n",
       "      <td>24.6712</td>\n",
       "      <td>35703.617945</td>\n",
       "      <td>19903.575668</td>\n",
       "      <td>0.0</td>\n",
       "      <td>Regular</td>\n",
       "    </tr>\n",
       "  </tbody>\n",
       "</table>\n",
       "</div>"
      ],
      "text/plain": [
       "    Story OutputCase        UX        UY       ΔUX       ΔUY       VX  \\\n",
       "0  Story3    SDx Max  0.012806  0.001874  0.003676  0.000509  37.5374   \n",
       "1  Story2    SDx Max   0.00913  0.001365  0.004582  0.000674  74.2772   \n",
       "2  Story1    SDx Max  0.004548  0.000691  0.004548  0.000691  95.2085   \n",
       "\n",
       "        VY    lat_rig(k)    0.7_prev_k  0.8k_prom   is_reg  \n",
       "0    9.565  18791.748527      0.000000        0.0  Regular  \n",
       "1  19.1643  28433.679525  13154.223969        0.0  Regular  \n",
       "2  24.6712  35703.617945  19903.575668        0.0  Regular  "
      ]
     },
     "metadata": {},
     "output_type": "display_data"
    }
   ],
   "source": [
    "sismo.show_table(sismo.tables.piso_blando_table)"
   ]
  },
  {
   "cell_type": "markdown",
   "metadata": {},
   "source": [
    "## Revisión por Irregularidad de Masa"
   ]
  },
  {
   "cell_type": "code",
   "execution_count": 46,
   "metadata": {},
   "outputs": [
    {
     "data": {
      "text/html": [
       "<div>\n",
       "<style scoped>\n",
       "    .dataframe tbody tr th:only-of-type {\n",
       "        vertical-align: middle;\n",
       "    }\n",
       "\n",
       "    .dataframe tbody tr th {\n",
       "        vertical-align: top;\n",
       "    }\n",
       "\n",
       "    .dataframe thead th {\n",
       "        text-align: right;\n",
       "    }\n",
       "</style>\n",
       "<table border=\"1\" class=\"dataframe\">\n",
       "  <thead>\n",
       "    <tr style=\"text-align: right;\">\n",
       "      <th></th>\n",
       "      <th>Story</th>\n",
       "      <th>Mass</th>\n",
       "      <th>1.5 Mass</th>\n",
       "      <th>story_type</th>\n",
       "      <th>is_regular</th>\n",
       "    </tr>\n",
       "  </thead>\n",
       "  <tbody>\n",
       "    <tr>\n",
       "      <th>0</th>\n",
       "      <td>Story3</td>\n",
       "      <td>9.19054</td>\n",
       "      <td></td>\n",
       "      <td>Azotea</td>\n",
       "      <td>Regular</td>\n",
       "    </tr>\n",
       "    <tr>\n",
       "      <th>1</th>\n",
       "      <td>Story2</td>\n",
       "      <td>13.84954</td>\n",
       "      <td>20.77431</td>\n",
       "      <td>Piso</td>\n",
       "      <td>Regular</td>\n",
       "    </tr>\n",
       "    <tr>\n",
       "      <th>2</th>\n",
       "      <td>Story1</td>\n",
       "      <td>14.61188</td>\n",
       "      <td>21.91782</td>\n",
       "      <td>Piso</td>\n",
       "      <td>Regular</td>\n",
       "    </tr>\n",
       "    <tr>\n",
       "      <th>3</th>\n",
       "      <td>Base</td>\n",
       "      <td>2.72264</td>\n",
       "      <td></td>\n",
       "      <td>Sotano</td>\n",
       "      <td>Regular</td>\n",
       "    </tr>\n",
       "  </tbody>\n",
       "</table>\n",
       "</div>"
      ],
      "text/plain": [
       "    Story      Mass  1.5 Mass story_type is_regular\n",
       "0  Story3   9.19054               Azotea    Regular\n",
       "1  Story2  13.84954  20.77431       Piso    Regular\n",
       "2  Story1  14.61188  21.91782       Piso    Regular\n",
       "3    Base   2.72264               Sotano    Regular"
      ]
     },
     "execution_count": 46,
     "metadata": {},
     "output_type": "execute_result"
    }
   ],
   "source": [
    "sismo.tables.rev_masa_table"
   ]
  },
  {
   "cell_type": "markdown",
   "metadata": {},
   "source": [
    "## Revisión de torsión"
   ]
  },
  {
   "cell_type": "code",
   "execution_count": 47,
   "metadata": {},
   "outputs": [
    {
     "data": {
      "application/vnd.jupyter.widget-view+json": {
       "model_id": "0bc30fce3be746b0995d1096f03b403b",
       "version_major": 2,
       "version_minor": 0
      },
      "text/plain": [
       "Dropdown(description='Filtro', options=('Sx ', 'Sy ', 'SDx Max', 'SDy Max', 'sin filtro'), style=DescriptionSt…"
      ]
     },
     "metadata": {},
     "output_type": "display_data"
    },
    {
     "data": {
      "text/html": [
       "<div>\n",
       "<style scoped>\n",
       "    .dataframe tbody tr th:only-of-type {\n",
       "        vertical-align: middle;\n",
       "    }\n",
       "\n",
       "    .dataframe tbody tr th {\n",
       "        vertical-align: top;\n",
       "    }\n",
       "\n",
       "    .dataframe thead th {\n",
       "        text-align: right;\n",
       "    }\n",
       "</style>\n",
       "<table border=\"1\" class=\"dataframe\">\n",
       "  <thead>\n",
       "    <tr style=\"text-align: right;\">\n",
       "      <th></th>\n",
       "      <th>Story</th>\n",
       "      <th>OutputCase</th>\n",
       "      <th>Direction</th>\n",
       "      <th>Max Drift</th>\n",
       "      <th>Avg Drift</th>\n",
       "      <th>Ratio</th>\n",
       "      <th>Height</th>\n",
       "      <th>Drifts</th>\n",
       "      <th>Drift &lt; Dmax/2</th>\n",
       "      <th>tor_reg</th>\n",
       "    </tr>\n",
       "  </thead>\n",
       "  <tbody>\n",
       "    <tr>\n",
       "      <th>0</th>\n",
       "      <td>Story3</td>\n",
       "      <td>Sx</td>\n",
       "      <td>X</td>\n",
       "      <td>0.004506</td>\n",
       "      <td>0.004149</td>\n",
       "      <td>1.086</td>\n",
       "      <td>3.6</td>\n",
       "      <td>0.031542</td>\n",
       "      <td>False</td>\n",
       "      <td>Regular</td>\n",
       "    </tr>\n",
       "    <tr>\n",
       "      <th>6</th>\n",
       "      <td>Story2</td>\n",
       "      <td>Sx</td>\n",
       "      <td>X</td>\n",
       "      <td>0.005596</td>\n",
       "      <td>0.005195</td>\n",
       "      <td>1.077</td>\n",
       "      <td>3.6</td>\n",
       "      <td>0.039172</td>\n",
       "      <td>False</td>\n",
       "      <td>Regular</td>\n",
       "    </tr>\n",
       "    <tr>\n",
       "      <th>12</th>\n",
       "      <td>Story1</td>\n",
       "      <td>Sx</td>\n",
       "      <td>X</td>\n",
       "      <td>0.005557</td>\n",
       "      <td>0.005196</td>\n",
       "      <td>1.069</td>\n",
       "      <td>5</td>\n",
       "      <td>0.038899</td>\n",
       "      <td>False</td>\n",
       "      <td>Regular</td>\n",
       "    </tr>\n",
       "  </tbody>\n",
       "</table>\n",
       "</div>"
      ],
      "text/plain": [
       "     Story OutputCase Direction Max Drift Avg Drift  Ratio Height    Drifts  \\\n",
       "0   Story3        Sx          X  0.004506  0.004149  1.086    3.6  0.031542   \n",
       "6   Story2        Sx          X  0.005596  0.005195  1.077    3.6  0.039172   \n",
       "12  Story1        Sx          X  0.005557  0.005196  1.069      5  0.038899   \n",
       "\n",
       "    Drift < Dmax/2  tor_reg  \n",
       "0            False  Regular  \n",
       "6            False  Regular  \n",
       "12           False  Regular  "
      ]
     },
     "metadata": {},
     "output_type": "display_data"
    }
   ],
   "source": [
    "sismo.show_table(sismo.tables.torsion_table)"
   ]
  },
  {
   "cell_type": "markdown",
   "metadata": {},
   "source": [
    "## Derivas"
   ]
  },
  {
   "cell_type": "code",
   "execution_count": 48,
   "metadata": {},
   "outputs": [
    {
     "data": {
      "application/vnd.jupyter.widget-view+json": {
       "model_id": "a6f95d3a19cd4cdcb64f12f21dd9a527",
       "version_major": 2,
       "version_minor": 0
      },
      "text/plain": [
       "Dropdown(description='Filtro', options=('Sx ', 'Sy ', 'SDx Max', 'SDy Max', 'sin filtro'), style=DescriptionSt…"
      ]
     },
     "metadata": {},
     "output_type": "display_data"
    },
    {
     "data": {
      "text/html": [
       "<div>\n",
       "<style scoped>\n",
       "    .dataframe tbody tr th:only-of-type {\n",
       "        vertical-align: middle;\n",
       "    }\n",
       "\n",
       "    .dataframe tbody tr th {\n",
       "        vertical-align: top;\n",
       "    }\n",
       "\n",
       "    .dataframe thead th {\n",
       "        text-align: right;\n",
       "    }\n",
       "</style>\n",
       "<table border=\"1\" class=\"dataframe\">\n",
       "  <thead>\n",
       "    <tr style=\"text-align: right;\">\n",
       "      <th></th>\n",
       "      <th>Story</th>\n",
       "      <th>OutputCase</th>\n",
       "      <th>Direction</th>\n",
       "      <th>Drifts</th>\n",
       "      <th>Drift_Check</th>\n",
       "    </tr>\n",
       "  </thead>\n",
       "  <tbody>\n",
       "    <tr>\n",
       "      <th>0</th>\n",
       "      <td>Story3</td>\n",
       "      <td>Sx</td>\n",
       "      <td>X</td>\n",
       "      <td>0.031542</td>\n",
       "      <td>No Cumple</td>\n",
       "    </tr>\n",
       "    <tr>\n",
       "      <th>6</th>\n",
       "      <td>Story2</td>\n",
       "      <td>Sx</td>\n",
       "      <td>X</td>\n",
       "      <td>0.039172</td>\n",
       "      <td>No Cumple</td>\n",
       "    </tr>\n",
       "    <tr>\n",
       "      <th>12</th>\n",
       "      <td>Story1</td>\n",
       "      <td>Sx</td>\n",
       "      <td>X</td>\n",
       "      <td>0.038899</td>\n",
       "      <td>No Cumple</td>\n",
       "    </tr>\n",
       "  </tbody>\n",
       "</table>\n",
       "</div>"
      ],
      "text/plain": [
       "     Story OutputCase Direction    Drifts Drift_Check\n",
       "0   Story3        Sx          X  0.031542   No Cumple\n",
       "6   Story2        Sx          X  0.039172   No Cumple\n",
       "12  Story1        Sx          X  0.038899   No Cumple"
      ]
     },
     "metadata": {},
     "output_type": "display_data"
    }
   ],
   "source": [
    "sismo.show_table(sismo.tables.drift_table)"
   ]
  },
  {
   "cell_type": "markdown",
   "metadata": {},
   "source": [
    "# Fuerza Cortante Mínima"
   ]
  },
  {
   "cell_type": "code",
   "execution_count": 49,
   "metadata": {},
   "outputs": [
    {
     "data": {
      "text/html": [
       "<style type=\"text/css\">\n",
       "</style>\n",
       "<table id=\"T_cc06d\">\n",
       "  <thead>\n",
       "  </thead>\n",
       "  <tbody>\n",
       "    <tr>\n",
       "      <td id=\"T_cc06d_row0_col0\" class=\"data row0 col0\" ></td>\n",
       "      <td id=\"T_cc06d_row0_col1\" class=\"data row0 col1\" >X</td>\n",
       "      <td id=\"T_cc06d_row0_col2\" class=\"data row0 col2\" >Y</td>\n",
       "    </tr>\n",
       "    <tr>\n",
       "      <td id=\"T_cc06d_row1_col0\" class=\"data row1 col0\" >V din (Ton)</td>\n",
       "      <td id=\"T_cc06d_row1_col1\" class=\"data row1 col1\" >95.208500</td>\n",
       "      <td id=\"T_cc06d_row1_col2\" class=\"data row1 col2\" >82.237300</td>\n",
       "    </tr>\n",
       "    <tr>\n",
       "      <td id=\"T_cc06d_row2_col0\" class=\"data row2 col0\" >V est (Ton)</td>\n",
       "      <td id=\"T_cc06d_row2_col1\" class=\"data row2 col1\" >-109.036400</td>\n",
       "      <td id=\"T_cc06d_row2_col2\" class=\"data row2 col2\" >-93.454500</td>\n",
       "    </tr>\n",
       "    <tr>\n",
       "      <td id=\"T_cc06d_row3_col0\" class=\"data row3 col0\" >% min</td>\n",
       "      <td id=\"T_cc06d_row3_col1\" class=\"data row3 col1\" >80</td>\n",
       "      <td id=\"T_cc06d_row3_col2\" class=\"data row3 col2\" >80</td>\n",
       "    </tr>\n",
       "    <tr>\n",
       "      <td id=\"T_cc06d_row4_col0\" class=\"data row4 col0\" >%</td>\n",
       "      <td id=\"T_cc06d_row4_col1\" class=\"data row4 col1\" >87.320000</td>\n",
       "      <td id=\"T_cc06d_row4_col2\" class=\"data row4 col2\" >88.000000</td>\n",
       "    </tr>\n",
       "    <tr>\n",
       "      <td id=\"T_cc06d_row5_col0\" class=\"data row5 col0\" >F.E.</td>\n",
       "      <td id=\"T_cc06d_row5_col1\" class=\"data row5 col1\" >1</td>\n",
       "      <td id=\"T_cc06d_row5_col2\" class=\"data row5 col2\" >1</td>\n",
       "    </tr>\n",
       "  </tbody>\n",
       "</table>\n"
      ],
      "text/plain": [
       "<pandas.io.formats.style.Styler at 0x1f64790d480>"
      ]
     },
     "execution_count": 49,
     "metadata": {},
     "output_type": "execute_result"
    }
   ],
   "source": [
    "sismo.tables.shear_table.style.hide(axis='index').hide(axis='columns')"
   ]
  },
  {
   "attachments": {},
   "cell_type": "markdown",
   "metadata": {},
   "source": [
    "# Generación de reporte"
   ]
  },
  {
   "cell_type": "code",
   "execution_count": 51,
   "metadata": {},
   "outputs": [],
   "source": [
    "sismo.generate_memoria()"
   ]
  }
 ],
 "metadata": {
  "kernelspec": {
   "display_name": "Python 3 (ipykernel)",
   "language": "python",
   "name": "python3"
  },
  "language_info": {
   "codemirror_mode": {
    "name": "ipython",
    "version": 3
   },
   "file_extension": ".py",
   "mimetype": "text/x-python",
   "name": "python",
   "nbconvert_exporter": "python",
   "pygments_lexer": "ipython3",
   "version": "3.10.9"
  },
  "toc-showmarkdowntxt": true,
  "vscode": {
   "interpreter": {
    "hash": "bac46d45b902eb1257731b3cec425c94a9ada4fac09ba91d7557c516a1f31c36"
   }
  }
 },
 "nbformat": 4,
 "nbformat_minor": 4
}
